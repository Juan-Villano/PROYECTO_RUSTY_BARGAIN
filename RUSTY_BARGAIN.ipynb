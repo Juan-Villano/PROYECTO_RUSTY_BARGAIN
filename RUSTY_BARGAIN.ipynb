{
 "cells": [
  {
   "cell_type": "markdown",
   "metadata": {},
   "source": [
    "## Preparación de datos"
   ]
  },
  {
   "cell_type": "markdown",
   "metadata": {},
   "source": [
    "### Importación de Librerías"
   ]
  },
  {
   "cell_type": "code",
   "execution_count": 29,
   "metadata": {},
   "outputs": [],
   "source": [
    "import numpy as np\n",
    "import pandas as pd\n",
    "from sklearn.model_selection import train_test_split\n",
    "from sklearn.linear_model import LinearRegression\n",
    "import time\n",
    "from sklearn.metrics import mean_squared_error\n",
    "from sklearn.preprocessing import StandardScaler, OrdinalEncoder\n",
    "from sklearn.ensemble import RandomForestRegressor\n",
    "from sklearn.tree import DecisionTreeRegressor\n",
    "import lightgbm as lgb\n",
    "import gc"
   ]
  },
  {
   "cell_type": "markdown",
   "metadata": {},
   "source": [
    "### Carga y Preprocesamiento de Datos"
   ]
  },
  {
   "cell_type": "code",
   "execution_count": 30,
   "metadata": {},
   "outputs": [],
   "source": [
    "# Carga los datos\n",
    "data = pd.read_csv('datasets/car_data.csv')"
   ]
  },
  {
   "cell_type": "code",
   "execution_count": 31,
   "metadata": {},
   "outputs": [
    {
     "data": {
      "text/html": [
       "<div>\n",
       "<style scoped>\n",
       "    .dataframe tbody tr th:only-of-type {\n",
       "        vertical-align: middle;\n",
       "    }\n",
       "\n",
       "    .dataframe tbody tr th {\n",
       "        vertical-align: top;\n",
       "    }\n",
       "\n",
       "    .dataframe thead th {\n",
       "        text-align: right;\n",
       "    }\n",
       "</style>\n",
       "<table border=\"1\" class=\"dataframe\">\n",
       "  <thead>\n",
       "    <tr style=\"text-align: right;\">\n",
       "      <th></th>\n",
       "      <th>DateCrawled</th>\n",
       "      <th>Price</th>\n",
       "      <th>VehicleType</th>\n",
       "      <th>RegistrationYear</th>\n",
       "      <th>Gearbox</th>\n",
       "      <th>Power</th>\n",
       "      <th>Model</th>\n",
       "      <th>Mileage</th>\n",
       "      <th>RegistrationMonth</th>\n",
       "      <th>FuelType</th>\n",
       "      <th>Brand</th>\n",
       "      <th>NotRepaired</th>\n",
       "      <th>DateCreated</th>\n",
       "      <th>NumberOfPictures</th>\n",
       "      <th>PostalCode</th>\n",
       "      <th>LastSeen</th>\n",
       "    </tr>\n",
       "  </thead>\n",
       "  <tbody>\n",
       "    <tr>\n",
       "      <th>0</th>\n",
       "      <td>24/03/2016 11:52</td>\n",
       "      <td>480</td>\n",
       "      <td>NaN</td>\n",
       "      <td>1993</td>\n",
       "      <td>manual</td>\n",
       "      <td>0</td>\n",
       "      <td>golf</td>\n",
       "      <td>150000</td>\n",
       "      <td>0</td>\n",
       "      <td>petrol</td>\n",
       "      <td>volkswagen</td>\n",
       "      <td>NaN</td>\n",
       "      <td>24/03/2016 00:00</td>\n",
       "      <td>0</td>\n",
       "      <td>70435</td>\n",
       "      <td>07/04/2016 03:16</td>\n",
       "    </tr>\n",
       "    <tr>\n",
       "      <th>1</th>\n",
       "      <td>24/03/2016 10:58</td>\n",
       "      <td>18300</td>\n",
       "      <td>coupe</td>\n",
       "      <td>2011</td>\n",
       "      <td>manual</td>\n",
       "      <td>190</td>\n",
       "      <td>NaN</td>\n",
       "      <td>125000</td>\n",
       "      <td>5</td>\n",
       "      <td>gasoline</td>\n",
       "      <td>audi</td>\n",
       "      <td>yes</td>\n",
       "      <td>24/03/2016 00:00</td>\n",
       "      <td>0</td>\n",
       "      <td>66954</td>\n",
       "      <td>07/04/2016 01:46</td>\n",
       "    </tr>\n",
       "    <tr>\n",
       "      <th>2</th>\n",
       "      <td>14/03/2016 12:52</td>\n",
       "      <td>9800</td>\n",
       "      <td>suv</td>\n",
       "      <td>2004</td>\n",
       "      <td>auto</td>\n",
       "      <td>163</td>\n",
       "      <td>grand</td>\n",
       "      <td>125000</td>\n",
       "      <td>8</td>\n",
       "      <td>gasoline</td>\n",
       "      <td>jeep</td>\n",
       "      <td>NaN</td>\n",
       "      <td>14/03/2016 00:00</td>\n",
       "      <td>0</td>\n",
       "      <td>90480</td>\n",
       "      <td>05/04/2016 12:47</td>\n",
       "    </tr>\n",
       "    <tr>\n",
       "      <th>3</th>\n",
       "      <td>17/03/2016 16:54</td>\n",
       "      <td>1500</td>\n",
       "      <td>small</td>\n",
       "      <td>2001</td>\n",
       "      <td>manual</td>\n",
       "      <td>75</td>\n",
       "      <td>golf</td>\n",
       "      <td>150000</td>\n",
       "      <td>6</td>\n",
       "      <td>petrol</td>\n",
       "      <td>volkswagen</td>\n",
       "      <td>no</td>\n",
       "      <td>17/03/2016 00:00</td>\n",
       "      <td>0</td>\n",
       "      <td>91074</td>\n",
       "      <td>17/03/2016 17:40</td>\n",
       "    </tr>\n",
       "    <tr>\n",
       "      <th>4</th>\n",
       "      <td>31/03/2016 17:25</td>\n",
       "      <td>3600</td>\n",
       "      <td>small</td>\n",
       "      <td>2008</td>\n",
       "      <td>manual</td>\n",
       "      <td>69</td>\n",
       "      <td>fabia</td>\n",
       "      <td>90000</td>\n",
       "      <td>7</td>\n",
       "      <td>gasoline</td>\n",
       "      <td>skoda</td>\n",
       "      <td>no</td>\n",
       "      <td>31/03/2016 00:00</td>\n",
       "      <td>0</td>\n",
       "      <td>60437</td>\n",
       "      <td>06/04/2016 10:17</td>\n",
       "    </tr>\n",
       "  </tbody>\n",
       "</table>\n",
       "</div>"
      ],
      "text/plain": [
       "        DateCrawled  Price VehicleType  RegistrationYear Gearbox  Power  \\\n",
       "0  24/03/2016 11:52    480         NaN              1993  manual      0   \n",
       "1  24/03/2016 10:58  18300       coupe              2011  manual    190   \n",
       "2  14/03/2016 12:52   9800         suv              2004    auto    163   \n",
       "3  17/03/2016 16:54   1500       small              2001  manual     75   \n",
       "4  31/03/2016 17:25   3600       small              2008  manual     69   \n",
       "\n",
       "   Model  Mileage  RegistrationMonth  FuelType       Brand NotRepaired  \\\n",
       "0   golf   150000                  0    petrol  volkswagen         NaN   \n",
       "1    NaN   125000                  5  gasoline        audi         yes   \n",
       "2  grand   125000                  8  gasoline        jeep         NaN   \n",
       "3   golf   150000                  6    petrol  volkswagen          no   \n",
       "4  fabia    90000                  7  gasoline       skoda          no   \n",
       "\n",
       "        DateCreated  NumberOfPictures  PostalCode          LastSeen  \n",
       "0  24/03/2016 00:00                 0       70435  07/04/2016 03:16  \n",
       "1  24/03/2016 00:00                 0       66954  07/04/2016 01:46  \n",
       "2  14/03/2016 00:00                 0       90480  05/04/2016 12:47  \n",
       "3  17/03/2016 00:00                 0       91074  17/03/2016 17:40  \n",
       "4  31/03/2016 00:00                 0       60437  06/04/2016 10:17  "
      ]
     },
     "execution_count": 31,
     "metadata": {},
     "output_type": "execute_result"
    }
   ],
   "source": [
    "data.head()"
   ]
  },
  {
   "cell_type": "code",
   "execution_count": 32,
   "metadata": {},
   "outputs": [
    {
     "name": "stdout",
     "output_type": "stream",
     "text": [
      "<class 'pandas.core.frame.DataFrame'>\n",
      "RangeIndex: 354369 entries, 0 to 354368\n",
      "Data columns (total 16 columns):\n",
      " #   Column             Non-Null Count   Dtype \n",
      "---  ------             --------------   ----- \n",
      " 0   DateCrawled        354369 non-null  object\n",
      " 1   Price              354369 non-null  int64 \n",
      " 2   VehicleType        316879 non-null  object\n",
      " 3   RegistrationYear   354369 non-null  int64 \n",
      " 4   Gearbox            334536 non-null  object\n",
      " 5   Power              354369 non-null  int64 \n",
      " 6   Model              334664 non-null  object\n",
      " 7   Mileage            354369 non-null  int64 \n",
      " 8   RegistrationMonth  354369 non-null  int64 \n",
      " 9   FuelType           321474 non-null  object\n",
      " 10  Brand              354369 non-null  object\n",
      " 11  NotRepaired        283215 non-null  object\n",
      " 12  DateCreated        354369 non-null  object\n",
      " 13  NumberOfPictures   354369 non-null  int64 \n",
      " 14  PostalCode         354369 non-null  int64 \n",
      " 15  LastSeen           354369 non-null  object\n",
      "dtypes: int64(7), object(9)\n",
      "memory usage: 43.3+ MB\n",
      "None\n",
      "\n",
      "               Price  RegistrationYear          Power        Mileage  \\\n",
      "count  354369.000000     354369.000000  354369.000000  354369.000000   \n",
      "mean     4416.656776       2004.234448     110.094337  128211.172535   \n",
      "std      4514.158514         90.227958     189.850405   37905.341530   \n",
      "min         0.000000       1000.000000       0.000000    5000.000000   \n",
      "25%      1050.000000       1999.000000      69.000000  125000.000000   \n",
      "50%      2700.000000       2003.000000     105.000000  150000.000000   \n",
      "75%      6400.000000       2008.000000     143.000000  150000.000000   \n",
      "max     20000.000000       9999.000000   20000.000000  150000.000000   \n",
      "\n",
      "       RegistrationMonth  NumberOfPictures     PostalCode  \n",
      "count      354369.000000          354369.0  354369.000000  \n",
      "mean            5.714645               0.0   50508.689087  \n",
      "std             3.726421               0.0   25783.096248  \n",
      "min             0.000000               0.0    1067.000000  \n",
      "25%             3.000000               0.0   30165.000000  \n",
      "50%             6.000000               0.0   49413.000000  \n",
      "75%             9.000000               0.0   71083.000000  \n",
      "max            12.000000               0.0   99998.000000  \n"
     ]
    }
   ],
   "source": [
    "#Información general sobre el dataset\n",
    "print(data.info())\n",
    "print()\n",
    "# Estadísticas descriptivas de las variables numéricas\n",
    "print(data.describe())"
   ]
  },
  {
   "cell_type": "code",
   "execution_count": 33,
   "metadata": {},
   "outputs": [],
   "source": [
    "# Eliminando columnas irrelevantes\n",
    "data = data.drop(columns=['DateCrawled', 'DateCreated', 'NumberOfPictures', 'LastSeen', 'PostalCode'])"
   ]
  },
  {
   "cell_type": "markdown",
   "metadata": {},
   "source": [
    "Eliminación de Columnas Irrelevantes: Se eliminan columnas que no aportan información relevante para el modelo."
   ]
  },
  {
   "cell_type": "code",
   "execution_count": 34,
   "metadata": {},
   "outputs": [
    {
     "name": "stdout",
     "output_type": "stream",
     "text": [
      "Price                 0.000000\n",
      "VehicleType          10.579368\n",
      "RegistrationYear      0.000000\n",
      "Gearbox               5.596709\n",
      "Power                 0.000000\n",
      "Model                 5.560588\n",
      "Mileage               0.000000\n",
      "RegistrationMonth     0.000000\n",
      "FuelType              9.282697\n",
      "Brand                 0.000000\n",
      "NotRepaired          20.079070\n",
      "dtype: float64\n"
     ]
    }
   ],
   "source": [
    "# Porcentaje de valores nulos en cada columna\n",
    "null_percent = data.isnull().mean() * 100\n",
    "print(null_percent)"
   ]
  },
  {
   "cell_type": "markdown",
   "metadata": {},
   "source": [
    "Cálculo de Valores Nulos: Se calcula el porcentaje de valores nulos en cada columna para decidir cómo manejarlos."
   ]
  },
  {
   "cell_type": "code",
   "execution_count": 35,
   "metadata": {},
   "outputs": [
    {
     "name": "stderr",
     "output_type": "stream",
     "text": [
      "C:\\Users\\juan6\\AppData\\Local\\Temp\\ipykernel_16016\\1599145848.py:2: FutureWarning: A value is trying to be set on a copy of a DataFrame or Series through chained assignment using an inplace method.\n",
      "The behavior will change in pandas 3.0. This inplace method will never work because the intermediate object on which we are setting values always behaves as a copy.\n",
      "\n",
      "For example, when doing 'df[col].method(value, inplace=True)', try using 'df.method({col: value}, inplace=True)' or df[col] = df[col].method(value) instead, to perform the operation inplace on the original object.\n",
      "\n",
      "\n",
      "  data['VehicleType'].fillna('Desconocido', inplace=True)\n",
      "C:\\Users\\juan6\\AppData\\Local\\Temp\\ipykernel_16016\\1599145848.py:3: FutureWarning: A value is trying to be set on a copy of a DataFrame or Series through chained assignment using an inplace method.\n",
      "The behavior will change in pandas 3.0. This inplace method will never work because the intermediate object on which we are setting values always behaves as a copy.\n",
      "\n",
      "For example, when doing 'df[col].method(value, inplace=True)', try using 'df.method({col: value}, inplace=True)' or df[col] = df[col].method(value) instead, to perform the operation inplace on the original object.\n",
      "\n",
      "\n",
      "  data['Gearbox'].fillna(data['Gearbox'].mode()[0], inplace=True)\n",
      "C:\\Users\\juan6\\AppData\\Local\\Temp\\ipykernel_16016\\1599145848.py:4: FutureWarning: A value is trying to be set on a copy of a DataFrame or Series through chained assignment using an inplace method.\n",
      "The behavior will change in pandas 3.0. This inplace method will never work because the intermediate object on which we are setting values always behaves as a copy.\n",
      "\n",
      "For example, when doing 'df[col].method(value, inplace=True)', try using 'df.method({col: value}, inplace=True)' or df[col] = df[col].method(value) instead, to perform the operation inplace on the original object.\n",
      "\n",
      "\n",
      "  data['Model'].fillna('Desconocido', inplace=True)\n",
      "C:\\Users\\juan6\\AppData\\Local\\Temp\\ipykernel_16016\\1599145848.py:5: FutureWarning: A value is trying to be set on a copy of a DataFrame or Series through chained assignment using an inplace method.\n",
      "The behavior will change in pandas 3.0. This inplace method will never work because the intermediate object on which we are setting values always behaves as a copy.\n",
      "\n",
      "For example, when doing 'df[col].method(value, inplace=True)', try using 'df.method({col: value}, inplace=True)' or df[col] = df[col].method(value) instead, to perform the operation inplace on the original object.\n",
      "\n",
      "\n",
      "  data['FuelType'].fillna('Desconocido', inplace=True)\n",
      "C:\\Users\\juan6\\AppData\\Local\\Temp\\ipykernel_16016\\1599145848.py:6: FutureWarning: A value is trying to be set on a copy of a DataFrame or Series through chained assignment using an inplace method.\n",
      "The behavior will change in pandas 3.0. This inplace method will never work because the intermediate object on which we are setting values always behaves as a copy.\n",
      "\n",
      "For example, when doing 'df[col].method(value, inplace=True)', try using 'df.method({col: value}, inplace=True)' or df[col] = df[col].method(value) instead, to perform the operation inplace on the original object.\n",
      "\n",
      "\n",
      "  data['NotRepaired'].fillna(data['NotRepaired'].mode()[0], inplace=True)\n"
     ]
    }
   ],
   "source": [
    "# Imputación de valores nulos\n",
    "data['VehicleType'].fillna('Desconocido', inplace=True)\n",
    "data['Gearbox'].fillna(data['Gearbox'].mode()[0], inplace=True)\n",
    "data['Model'].fillna('Desconocido', inplace=True)\n",
    "data['FuelType'].fillna('Desconocido', inplace=True)\n",
    "data['NotRepaired'].fillna(data['NotRepaired'].mode()[0], inplace=True)"
   ]
  },
  {
   "cell_type": "markdown",
   "metadata": {},
   "source": [
    "Imputación de Valores Nulos: Se reemplazan los valores nulos con valores predeterminados, como 'Desconocido' o la moda de la columna."
   ]
  },
  {
   "cell_type": "code",
   "execution_count": 36,
   "metadata": {},
   "outputs": [
    {
     "name": "stdout",
     "output_type": "stream",
     "text": [
      "Price                0\n",
      "VehicleType          0\n",
      "RegistrationYear     0\n",
      "Gearbox              0\n",
      "Power                0\n",
      "Model                0\n",
      "Mileage              0\n",
      "RegistrationMonth    0\n",
      "FuelType             0\n",
      "Brand                0\n",
      "NotRepaired          0\n",
      "dtype: int64\n"
     ]
    }
   ],
   "source": [
    "# Verificar que no haya valores nulos restantes\n",
    "print(data.isnull().sum())"
   ]
  },
  {
   "cell_type": "code",
   "execution_count": 37,
   "metadata": {},
   "outputs": [
    {
     "name": "stdout",
     "output_type": "stream",
     "text": [
      "               Price  RegistrationYear          Power        Mileage  \\\n",
      "count  295312.000000     295312.000000  295312.000000  295312.000000   \n",
      "mean     4943.692407       2003.528939     123.808809  128572.729859   \n",
      "std      4603.262675          6.685565      62.523248   36526.152516   \n",
      "min       101.000000       1910.000000      51.000000    5000.000000   \n",
      "25%      1450.000000       1999.000000      82.000000  125000.000000   \n",
      "50%      3300.000000       2004.000000     115.000000  150000.000000   \n",
      "75%      7000.000000       2008.000000     150.000000  150000.000000   \n",
      "max     20000.000000       2019.000000    1999.000000  150000.000000   \n",
      "\n",
      "       RegistrationMonth  \n",
      "count      295312.000000  \n",
      "mean            5.987667  \n",
      "std             3.589068  \n",
      "min             0.000000  \n",
      "25%             3.000000  \n",
      "50%             6.000000  \n",
      "75%             9.000000  \n",
      "max            12.000000  \n"
     ]
    }
   ],
   "source": [
    "# Filtrar outliers basado en un rango razonable para características numéricas\n",
    "data = data[(data['RegistrationYear'] >= 1900) & (data['RegistrationYear'] <= 2024)] # eliminamos años muy antiguos y fechas fututras a la actual\n",
    "data = data[(data['Power'] > 50) & (data['Power'] < 2000)] # investigando este podria ser el rango\n",
    "data = data[data['Price'] > 100]  # Eliminando precios negativos o demasiado bajos\n",
    "\n",
    "# Revisar los datos después de la limpieza\n",
    "print(data.describe())"
   ]
  },
  {
   "cell_type": "markdown",
   "metadata": {},
   "source": [
    "Removemos y corregir valores atípicos, que son errores de entrada (por ejemplo, RegistrationYear igual a 9999).\n",
    "\n",
    "Establecer rangos razonables para las características basados en el conocimiento del dominio (por ejemplo, el año de registro no debería ser mayor al año actual)."
   ]
  },
  {
   "cell_type": "code",
   "execution_count": 38,
   "metadata": {},
   "outputs": [],
   "source": [
    "# Codificación One-Hot Encoding de las variables categóricas\n",
    "data_ohe = pd.get_dummies(data, columns=['VehicleType', 'Gearbox', 'Model', 'FuelType', 'Brand', 'NotRepaired'], drop_first=True)\n"
   ]
  },
  {
   "cell_type": "code",
   "execution_count": 39,
   "metadata": {},
   "outputs": [
    {
     "name": "stdout",
     "output_type": "stream",
     "text": [
      "VehicleType tiene 9 valores únicos\n",
      "Gearbox tiene 2 valores únicos\n",
      "Model tiene 249 valores únicos\n",
      "FuelType tiene 8 valores únicos\n",
      "Brand tiene 40 valores únicos\n",
      "NotRepaired tiene 2 valores únicos\n"
     ]
    }
   ],
   "source": [
    "for col in ['VehicleType', 'Gearbox', 'Model', 'FuelType', 'Brand', 'NotRepaired']:\n",
    "    print(f\"{col} tiene {data[col].nunique()} valores únicos\") # revisar valores unicos"
   ]
  },
  {
   "cell_type": "markdown",
   "metadata": {},
   "source": [
    "Revise los valores unicos, con ello decidi agrupar los valores menos comunes para evitar la alta cardinalidad."
   ]
  },
  {
   "cell_type": "code",
   "execution_count": 40,
   "metadata": {},
   "outputs": [],
   "source": [
    "# Definir el umbral mínimo de frecuencia para mantener las categorías tal cual\n",
    "threshold_model = 5000  \n",
    "threshold_brand = 5000  \n",
    "\n",
    "# Agrupar categorías menos frecuentes en 'Model'\n",
    "model_value_counts = data['Model'].value_counts()\n",
    "models_to_replace = model_value_counts[model_value_counts < threshold_model].index\n",
    "data['Model'] = data['Model'].replace(models_to_replace, 'Otro')\n",
    "\n",
    "# Agrupar categorías menos frecuentes en 'Brand'\n",
    "brand_value_counts = data['Brand'].value_counts()\n",
    "brands_to_replace = brand_value_counts[brand_value_counts < threshold_brand].index\n",
    "data['Brand'] = data['Brand'].replace(brands_to_replace, 'Otro')\n"
   ]
  },
  {
   "cell_type": "code",
   "execution_count": 41,
   "metadata": {},
   "outputs": [
    {
     "name": "stdout",
     "output_type": "stream",
     "text": [
      "VehicleType tiene 9 valores únicos\n",
      "Gearbox tiene 2 valores únicos\n",
      "Model tiene 16 valores únicos\n",
      "FuelType tiene 8 valores únicos\n",
      "Brand tiene 12 valores únicos\n",
      "NotRepaired tiene 2 valores únicos\n"
     ]
    }
   ],
   "source": [
    "for col in ['VehicleType', 'Gearbox', 'Model', 'FuelType', 'Brand', 'NotRepaired']:\n",
    "    print(f\"{col} tiene {data[col].nunique()} valores únicos\") # nuevamente reviso valores unicos"
   ]
  },
  {
   "cell_type": "code",
   "execution_count": 42,
   "metadata": {},
   "outputs": [],
   "source": [
    "data_ohe = pd.get_dummies(data, columns=['VehicleType', 'Gearbox', 'Model', 'FuelType', 'Brand', 'NotRepaired'], drop_first=True)"
   ]
  },
  {
   "cell_type": "markdown",
   "metadata": {},
   "source": [
    "Luego de reducir los valores unicos agrupando se aplica nuevamente One_Hot encoding"
   ]
  },
  {
   "cell_type": "markdown",
   "metadata": {},
   "source": [
    "Codificación One-Hot Encoding: Se convierte cada categoría en una columna binaria, lo que es necesario para los modelos que no pueden manejar variables categóricas directamente."
   ]
  },
  {
   "cell_type": "code",
   "execution_count": 43,
   "metadata": {},
   "outputs": [
    {
     "data": {
      "text/html": [
       "<div>\n",
       "<style scoped>\n",
       "    .dataframe tbody tr th:only-of-type {\n",
       "        vertical-align: middle;\n",
       "    }\n",
       "\n",
       "    .dataframe tbody tr th {\n",
       "        vertical-align: top;\n",
       "    }\n",
       "\n",
       "    .dataframe thead th {\n",
       "        text-align: right;\n",
       "    }\n",
       "</style>\n",
       "<table border=\"1\" class=\"dataframe\">\n",
       "  <thead>\n",
       "    <tr style=\"text-align: right;\">\n",
       "      <th></th>\n",
       "      <th>Price</th>\n",
       "      <th>RegistrationYear</th>\n",
       "      <th>Power</th>\n",
       "      <th>Mileage</th>\n",
       "      <th>RegistrationMonth</th>\n",
       "      <th>VehicleType_bus</th>\n",
       "      <th>VehicleType_convertible</th>\n",
       "      <th>VehicleType_coupe</th>\n",
       "      <th>VehicleType_other</th>\n",
       "      <th>VehicleType_sedan</th>\n",
       "      <th>...</th>\n",
       "      <th>Brand_fiat</th>\n",
       "      <th>Brand_ford</th>\n",
       "      <th>Brand_mercedes_benz</th>\n",
       "      <th>Brand_opel</th>\n",
       "      <th>Brand_peugeot</th>\n",
       "      <th>Brand_renault</th>\n",
       "      <th>Brand_seat</th>\n",
       "      <th>Brand_skoda</th>\n",
       "      <th>Brand_volkswagen</th>\n",
       "      <th>NotRepaired_yes</th>\n",
       "    </tr>\n",
       "  </thead>\n",
       "  <tbody>\n",
       "    <tr>\n",
       "      <th>1</th>\n",
       "      <td>18300</td>\n",
       "      <td>2011</td>\n",
       "      <td>190</td>\n",
       "      <td>125000</td>\n",
       "      <td>5</td>\n",
       "      <td>False</td>\n",
       "      <td>False</td>\n",
       "      <td>True</td>\n",
       "      <td>False</td>\n",
       "      <td>False</td>\n",
       "      <td>...</td>\n",
       "      <td>False</td>\n",
       "      <td>False</td>\n",
       "      <td>False</td>\n",
       "      <td>False</td>\n",
       "      <td>False</td>\n",
       "      <td>False</td>\n",
       "      <td>False</td>\n",
       "      <td>False</td>\n",
       "      <td>False</td>\n",
       "      <td>True</td>\n",
       "    </tr>\n",
       "    <tr>\n",
       "      <th>2</th>\n",
       "      <td>9800</td>\n",
       "      <td>2004</td>\n",
       "      <td>163</td>\n",
       "      <td>125000</td>\n",
       "      <td>8</td>\n",
       "      <td>False</td>\n",
       "      <td>False</td>\n",
       "      <td>False</td>\n",
       "      <td>False</td>\n",
       "      <td>False</td>\n",
       "      <td>...</td>\n",
       "      <td>False</td>\n",
       "      <td>False</td>\n",
       "      <td>False</td>\n",
       "      <td>False</td>\n",
       "      <td>False</td>\n",
       "      <td>False</td>\n",
       "      <td>False</td>\n",
       "      <td>False</td>\n",
       "      <td>False</td>\n",
       "      <td>False</td>\n",
       "    </tr>\n",
       "    <tr>\n",
       "      <th>3</th>\n",
       "      <td>1500</td>\n",
       "      <td>2001</td>\n",
       "      <td>75</td>\n",
       "      <td>150000</td>\n",
       "      <td>6</td>\n",
       "      <td>False</td>\n",
       "      <td>False</td>\n",
       "      <td>False</td>\n",
       "      <td>False</td>\n",
       "      <td>False</td>\n",
       "      <td>...</td>\n",
       "      <td>False</td>\n",
       "      <td>False</td>\n",
       "      <td>False</td>\n",
       "      <td>False</td>\n",
       "      <td>False</td>\n",
       "      <td>False</td>\n",
       "      <td>False</td>\n",
       "      <td>False</td>\n",
       "      <td>True</td>\n",
       "      <td>False</td>\n",
       "    </tr>\n",
       "    <tr>\n",
       "      <th>4</th>\n",
       "      <td>3600</td>\n",
       "      <td>2008</td>\n",
       "      <td>69</td>\n",
       "      <td>90000</td>\n",
       "      <td>7</td>\n",
       "      <td>False</td>\n",
       "      <td>False</td>\n",
       "      <td>False</td>\n",
       "      <td>False</td>\n",
       "      <td>False</td>\n",
       "      <td>...</td>\n",
       "      <td>False</td>\n",
       "      <td>False</td>\n",
       "      <td>False</td>\n",
       "      <td>False</td>\n",
       "      <td>False</td>\n",
       "      <td>False</td>\n",
       "      <td>False</td>\n",
       "      <td>True</td>\n",
       "      <td>False</td>\n",
       "      <td>False</td>\n",
       "    </tr>\n",
       "    <tr>\n",
       "      <th>5</th>\n",
       "      <td>650</td>\n",
       "      <td>1995</td>\n",
       "      <td>102</td>\n",
       "      <td>150000</td>\n",
       "      <td>10</td>\n",
       "      <td>False</td>\n",
       "      <td>False</td>\n",
       "      <td>False</td>\n",
       "      <td>False</td>\n",
       "      <td>True</td>\n",
       "      <td>...</td>\n",
       "      <td>False</td>\n",
       "      <td>False</td>\n",
       "      <td>False</td>\n",
       "      <td>False</td>\n",
       "      <td>False</td>\n",
       "      <td>False</td>\n",
       "      <td>False</td>\n",
       "      <td>False</td>\n",
       "      <td>False</td>\n",
       "      <td>True</td>\n",
       "    </tr>\n",
       "  </tbody>\n",
       "</table>\n",
       "<p>5 rows × 48 columns</p>\n",
       "</div>"
      ],
      "text/plain": [
       "   Price  RegistrationYear  Power  Mileage  RegistrationMonth  \\\n",
       "1  18300              2011    190   125000                  5   \n",
       "2   9800              2004    163   125000                  8   \n",
       "3   1500              2001     75   150000                  6   \n",
       "4   3600              2008     69    90000                  7   \n",
       "5    650              1995    102   150000                 10   \n",
       "\n",
       "   VehicleType_bus  VehicleType_convertible  VehicleType_coupe  \\\n",
       "1            False                    False               True   \n",
       "2            False                    False              False   \n",
       "3            False                    False              False   \n",
       "4            False                    False              False   \n",
       "5            False                    False              False   \n",
       "\n",
       "   VehicleType_other  VehicleType_sedan  ...  Brand_fiat  Brand_ford  \\\n",
       "1              False              False  ...       False       False   \n",
       "2              False              False  ...       False       False   \n",
       "3              False              False  ...       False       False   \n",
       "4              False              False  ...       False       False   \n",
       "5              False               True  ...       False       False   \n",
       "\n",
       "   Brand_mercedes_benz  Brand_opel  Brand_peugeot  Brand_renault  Brand_seat  \\\n",
       "1                False       False          False          False       False   \n",
       "2                False       False          False          False       False   \n",
       "3                False       False          False          False       False   \n",
       "4                False       False          False          False       False   \n",
       "5                False       False          False          False       False   \n",
       "\n",
       "   Brand_skoda  Brand_volkswagen  NotRepaired_yes  \n",
       "1        False             False             True  \n",
       "2        False             False            False  \n",
       "3        False              True            False  \n",
       "4         True             False            False  \n",
       "5        False             False             True  \n",
       "\n",
       "[5 rows x 48 columns]"
      ]
     },
     "execution_count": 43,
     "metadata": {},
     "output_type": "execute_result"
    }
   ],
   "source": [
    "data_ohe.head()"
   ]
  },
  {
   "cell_type": "code",
   "execution_count": 44,
   "metadata": {},
   "outputs": [],
   "source": [
    "# Definir características \n",
    "features = data_ohe.drop(columns=['Price'], axis=1)\n",
    "target = data_ohe['Price']\n",
    "\n",
    "# División de los datos en entrenamiento, validación y prueba\n",
    "features_train, features_temp, target_train, target_temp = train_test_split(features, target, test_size=0.4, random_state=12345)\n",
    "\n",
    "# Dividir el conjunto 'temp' en validación y prueba\n",
    "features_valid, features_test, target_valid, target_test = train_test_split(features_temp, target_temp, test_size=0.5, random_state=12345)"
   ]
  },
  {
   "cell_type": "markdown",
   "metadata": {},
   "source": [
    "División de Datos: Se dividen los datos en conjuntos de entrenamiento, validación y prueba."
   ]
  },
  {
   "cell_type": "code",
   "execution_count": 45,
   "metadata": {},
   "outputs": [],
   "source": [
    "# Características numéricas a estandarizar\n",
    "numeric = ['RegistrationYear', 'Power', 'Mileage', 'RegistrationMonth']\n",
    "\n",
    "# Crear y ajustar el escalador\n",
    "scaler = StandardScaler()\n",
    "scaler.fit(features_train[numeric])\n",
    "pd.options.mode.chained_assignment = None\n",
    "\n",
    "# Transformar las características numéricas en los conjuntos de entrenamiento, validación y prueba\n",
    "features_train[numeric] = scaler.transform(features_train[numeric])\n",
    "features_valid[numeric] = scaler.transform(features_valid[numeric])\n",
    "features_test[numeric] = scaler.transform(features_test[numeric])\n",
    "\n",
    "# Ahora tienes tus datos divididos en 3 conjuntos: features_train, features_valid, features_test"
   ]
  },
  {
   "cell_type": "markdown",
   "metadata": {},
   "source": [
    "Estandarización de Características Numéricas: Se escalan las características numéricas para que todas tengan media 0 y desviación estándar 1, lo cual es importante para la mayoría de los modelos de machine learning."
   ]
  },
  {
   "cell_type": "markdown",
   "metadata": {},
   "source": [
    "### Codificación Ordinal para Modelos Basados en Árboles"
   ]
  },
  {
   "cell_type": "code",
   "execution_count": 46,
   "metadata": {},
   "outputs": [],
   "source": [
    "# Codificación de etiquetas para árboles de decisión y bosques aleatorios\n",
    "encoder = OrdinalEncoder()\n",
    "data_ordinal = pd.DataFrame(encoder.fit_transform(data), columns=data.columns)\n",
    "\n",
    "# Separar características y objetivo\n",
    "target_tree = data_ordinal['Price']\n",
    "features_tree = data_ordinal.drop(['Price'], axis=1)\n",
    "\n",
    "# Dividir los datos en entrenamiento, validación y prueba\n",
    "features_tree_train, features_tree_temp, target_tree_train, target_tree_temp = train_test_split(features_tree, target_tree, test_size=0.4, random_state=12345)\n",
    "\n",
    "# Dividir el conjunto 'temp' en validación y prueba\n",
    "features_tree_valid, features_tree_test, target_tree_valid, target_tree_test = train_test_split(features_tree_temp, target_tree_temp, test_size=0.5, random_state=12345)\n",
    "\n",
    "# Ahora tienes features_tree_train, features_tree_valid y features_tree_test"
   ]
  },
  {
   "cell_type": "markdown",
   "metadata": {},
   "source": [
    "Codificación Ordinal: Para modelos basados en árboles, se usa la codificación ordinal que asigna valores enteros a las categorías, ya que estos modelos pueden manejar variables categóricas directamente.\n",
    "\n",
    "\n",
    "División de Datos: Se realiza nuevamente la división en conjuntos de entrenamiento, validación y prueba para los datos codificados de forma ordinal."
   ]
  },
  {
   "cell_type": "code",
   "execution_count": 47,
   "metadata": {},
   "outputs": [],
   "source": [
    "del data\n",
    "del data_ohe"
   ]
  },
  {
   "cell_type": "markdown",
   "metadata": {},
   "source": [
    "En este proyecto se presento problemas con la memoria, por lo que se decidio eliminar valores no necesarios"
   ]
  },
  {
   "cell_type": "markdown",
   "metadata": {},
   "source": [
    "## Entrenamiento del modelo "
   ]
  },
  {
   "cell_type": "markdown",
   "metadata": {},
   "source": [
    "### Regresión Lineal:\n"
   ]
  },
  {
   "cell_type": "code",
   "execution_count": 48,
   "metadata": {},
   "outputs": [
    {
     "name": "stdout",
     "output_type": "stream",
     "text": [
      "Regresión Lineal - RMSE en validación: 2877.20, Tiempo de entrenamiento: 0.33 s, Tiempo de predicción: 0.03 s\n",
      "Regresión Lineal - RMSE en prueba: 2859.03\n"
     ]
    }
   ],
   "source": [
    "# Entrenamiento y Validación del Modelo\n",
    "\n",
    "# Entrenamiento y evaluación en el conjunto de validación\n",
    "start_train_time = time.time()\n",
    "model_lr = LinearRegression()\n",
    "model_lr.fit(features_train, target_train)\n",
    "end_train_time = time.time()\n",
    "train_time_lr = end_train_time - start_train_time\n",
    "\n",
    "start_pred_time = time.time()\n",
    "predictions_valid = model_lr.predict(features_valid)\n",
    "end_pred_time = time.time()\n",
    "pred_time_lr = end_pred_time - start_pred_time\n",
    "\n",
    "rmse_lr_valid = mean_squared_error(target_valid, predictions_valid)**0.5\n",
    "print(f'Regresión Lineal - RMSE en validación: {rmse_lr_valid:.2f}, Tiempo de entrenamiento: {train_time_lr:.2f} s, Tiempo de predicción: {pred_time_lr:.2f} s')\n",
    "\n",
    "# Evaluación final en el conjunto de prueba\n",
    "predictions_test = model_lr.predict(features_test)\n",
    "rmse_lr_test = mean_squared_error(target_test, predictions_test)**0.5\n",
    "print(f'Regresión Lineal - RMSE en prueba: {rmse_lr_test:.2f}')\n",
    "\n",
    "del model_lr, predictions_valid, predictions_test"
   ]
  },
  {
   "cell_type": "markdown",
   "metadata": {},
   "source": [
    "Entrenamiento: Se entrena un modelo de regresión lineal con los datos estandarizados.\n",
    "\n",
    "\n",
    "Evaluación: Se calcula el RMSE para evaluar la precisión del modelo con un resultado de 2877.20 para el conjunto de validación y 2859.03 para el conjunto de prueba."
   ]
  },
  {
   "cell_type": "markdown",
   "metadata": {},
   "source": [
    "### Árbol de Decisión:"
   ]
  },
  {
   "cell_type": "code",
   "execution_count": 49,
   "metadata": {},
   "outputs": [
    {
     "name": "stdout",
     "output_type": "stream",
     "text": [
      "Decision Tree max_depth=1 RMSE en validación: 732.60, Tiempo de entrenamiento: 0.05 s, Tiempo de predicción: 0.01 s\n",
      "Decision Tree max_depth=2 RMSE en validación: 642.42, Tiempo de entrenamiento: 0.07 s, Tiempo de predicción: 0.00 s\n",
      "Decision Tree max_depth=3 RMSE en validación: 586.64, Tiempo de entrenamiento: 0.11 s, Tiempo de predicción: 0.00 s\n",
      "Decision Tree max_depth=4 RMSE en validación: 532.01, Tiempo de entrenamiento: 0.14 s, Tiempo de predicción: 0.00 s\n",
      "Decision Tree max_depth=5 RMSE en validación: 490.77, Tiempo de entrenamiento: 0.16 s, Tiempo de predicción: 0.00 s\n",
      "Decision Tree max_depth=6 RMSE en validación: 458.04, Tiempo de entrenamiento: 0.19 s, Tiempo de predicción: 0.01 s\n",
      "Decision Tree max_depth=7 RMSE en validación: 434.61, Tiempo de entrenamiento: 0.21 s, Tiempo de predicción: 0.01 s\n",
      "Decision Tree max_depth=8 RMSE en validación: 416.59, Tiempo de entrenamiento: 0.23 s, Tiempo de predicción: 0.01 s\n",
      "Decision Tree max_depth=9 RMSE en validación: 403.80, Tiempo de entrenamiento: 0.26 s, Tiempo de predicción: 0.00 s\n",
      "Decision Tree max_depth=10 RMSE en validación: 393.05, Tiempo de entrenamiento: 0.27 s, Tiempo de predicción: 0.01 s\n",
      "Decision Tree - RMSE en prueba: 393.28\n"
     ]
    }
   ],
   "source": [
    "# Árbol de Decisión\n",
    "best_rmse_dt = float(\"inf\")\n",
    "best_depth_dt = 0\n",
    "\n",
    "for depth in range(1, 11):\n",
    "    start_train_time = time.time()\n",
    "    model_dt = DecisionTreeRegressor(max_depth=depth, random_state=485)\n",
    "    model_dt.fit(features_tree_train, target_tree_train)\n",
    "    end_train_time = time.time()\n",
    "    train_time_dt = end_train_time - start_train_time\n",
    "    \n",
    "    start_pred_time = time.time()\n",
    "    predictions_valid = model_dt.predict(features_tree_valid)\n",
    "    end_pred_time = time.time()\n",
    "    pred_time_dt = end_pred_time - start_pred_time\n",
    "\n",
    "    rmse = mean_squared_error(target_tree_valid, predictions_valid)**0.5\n",
    "    if rmse < best_rmse_dt:\n",
    "        best_rmse_dt = rmse\n",
    "        best_depth_dt = depth\n",
    "        best_train_time_dt = train_time_dt\n",
    "        best_pred_time_dt = pred_time_dt\n",
    "\n",
    "    print(f'Decision Tree max_depth={depth} RMSE en validación: {rmse:.2f}, Tiempo de entrenamiento: {train_time_dt:.2f} s, Tiempo de predicción: {pred_time_dt:.2f} s')\n",
    "\n",
    "# Evaluación final del mejor Árbol de Decisión en el conjunto de prueba\n",
    "model_dt = DecisionTreeRegressor(max_depth=best_depth_dt, random_state=485)\n",
    "model_dt.fit(features_tree_train, target_tree_train)\n",
    "predictions_test_dt = model_dt.predict(features_tree_test)\n",
    "rmse_dt_test = mean_squared_error(target_tree_test, predictions_test_dt)**0.5\n",
    "print(f'Decision Tree - RMSE en prueba: {rmse_dt_test:.2f}')\n",
    "\n",
    "del model_dt, predictions_valid, predictions_test_dt"
   ]
  },
  {
   "cell_type": "markdown",
   "metadata": {},
   "source": [
    "Entrenamiento y Evaluación con Diferentes Profundidades: Se entrena un árbol de decisión con diferentes profundidades y se evalúa cada uno usando RMSE, y con la mejor profundidad que es 10 se evalua con un RMSE del conjunto de prueba de 393.28."
   ]
  },
  {
   "cell_type": "markdown",
   "metadata": {},
   "source": [
    "### Bosque Aleatorio:"
   ]
  },
  {
   "cell_type": "code",
   "execution_count": 50,
   "metadata": {},
   "outputs": [
    {
     "name": "stdout",
     "output_type": "stream",
     "text": [
      "Random Forest max_depth=1 RMSE en validación: 732.60, Tiempo de entrenamiento: 3.01 s, Tiempo de predicción: 0.07 s\n",
      "Random Forest max_depth=2 RMSE en validación: 642.07, Tiempo de entrenamiento: 5.29 s, Tiempo de predicción: 0.11 s\n",
      "Random Forest max_depth=3 RMSE en validación: 583.20, Tiempo de entrenamiento: 7.33 s, Tiempo de predicción: 0.14 s\n",
      "Random Forest max_depth=4 RMSE en validación: 526.47, Tiempo de entrenamiento: 9.14 s, Tiempo de predicción: 0.18 s\n",
      "Random Forest max_depth=5 RMSE en validación: 481.60, Tiempo de entrenamiento: 11.92 s, Tiempo de predicción: 0.24 s\n",
      "Random Forest max_depth=6 RMSE en validación: 448.65, Tiempo de entrenamiento: 13.03 s, Tiempo de predicción: 0.25 s\n",
      "Random Forest max_depth=7 RMSE en validación: 423.65, Tiempo de entrenamiento: 14.35 s, Tiempo de predicción: 0.29 s\n",
      "Random Forest max_depth=8 RMSE en validación: 404.77, Tiempo de entrenamiento: 15.96 s, Tiempo de predicción: 0.35 s\n",
      "Random Forest max_depth=9 RMSE en validación: 389.48, Tiempo de entrenamiento: 17.41 s, Tiempo de predicción: 0.39 s\n",
      "Random Forest max_depth=10 RMSE en validación: 376.25, Tiempo de entrenamiento: 19.22 s, Tiempo de predicción: 0.44 s\n",
      "Random Forest - RMSE en prueba: 375.93\n"
     ]
    },
    {
     "data": {
      "text/plain": [
       "352"
      ]
     },
     "execution_count": 50,
     "metadata": {},
     "output_type": "execute_result"
    }
   ],
   "source": [
    "# Bosque Aleatorio\n",
    "best_rmse_rf = float(\"inf\")\n",
    "best_depth_rf = 0\n",
    "\n",
    "for depth in range(1, 11):\n",
    "    start_train_time = time.time()\n",
    "    model_rf = RandomForestRegressor(n_estimators=100, max_depth=depth, random_state=485)\n",
    "    model_rf.fit(features_tree_train, target_tree_train)\n",
    "    end_train_time = time.time()\n",
    "    train_time_rf = end_train_time - start_train_time\n",
    "\n",
    "    start_pred_time = time.time()\n",
    "    predictions_valid = model_rf.predict(features_tree_valid)\n",
    "    end_pred_time = time.time()\n",
    "    pred_time_rf = end_pred_time - start_pred_time\n",
    "\n",
    "    rmse = mean_squared_error(target_tree_valid, predictions_valid)**0.5\n",
    "    if rmse < best_rmse_rf:\n",
    "        best_rmse_rf = rmse\n",
    "        best_depth_rf = depth\n",
    "        best_train_time_rf = train_time_rf\n",
    "        best_pred_time_rf = pred_time_rf\n",
    "\n",
    "    print(f'Random Forest max_depth={depth} RMSE en validación: {rmse:.2f}, Tiempo de entrenamiento: {train_time_rf:.2f} s, Tiempo de predicción: {pred_time_rf:.2f} s')\n",
    "\n",
    "# Evaluación final del mejor Bosque Aleatorio en el conjunto de prueba\n",
    "model_rf = RandomForestRegressor(n_estimators=100, max_depth=best_depth_rf, random_state=485)\n",
    "model_rf.fit(features_tree_train, target_tree_train)\n",
    "predictions_test_rf = model_rf.predict(features_tree_test)\n",
    "rmse_rf_test = mean_squared_error(target_tree_test, predictions_test_rf)**0.5\n",
    "print(f'Random Forest - RMSE en prueba: {rmse_rf_test:.2f}')\n",
    "\n",
    "del model_rf, predictions_valid, predictions_test_rf\n",
    "\n",
    "gc.collect()\n"
   ]
  },
  {
   "cell_type": "markdown",
   "metadata": {},
   "source": [
    "Entrenamiento y Evaluación con Diferentes Profundidades: Se entrena un bosque aleatorio con diferentes profundidades de árboles y se evalúa cada modelo usando RMSE, y con la mejor profundidad que es 10 se evalua con un RMSE del conjunto de prueba de 375.93."
   ]
  },
  {
   "cell_type": "markdown",
   "metadata": {
    "scrolled": false
   },
   "source": [
    "### LightGBM:"
   ]
  },
  {
   "cell_type": "code",
   "execution_count": 51,
   "metadata": {
    "scrolled": true
   },
   "outputs": [
    {
     "name": "stdout",
     "output_type": "stream",
     "text": [
      "LightGBM - RMSE en validación: 316.31, Tiempo de entrenamiento: 2.57 s, Tiempo de predicción: 0.38 s\n",
      "LightGBM - RMSE en prueba: 315.84\n"
     ]
    },
    {
     "data": {
      "text/plain": [
       "42"
      ]
     },
     "execution_count": 51,
     "metadata": {},
     "output_type": "execute_result"
    }
   ],
   "source": [
    "# LightGBM\n",
    "\n",
    "train_data = lgb.Dataset(features_tree_train, label=target_tree_train)\n",
    "valid_data = lgb.Dataset(features_tree_valid, label=target_tree_valid, reference=train_data)\n",
    "\n",
    "params = {\n",
    "    'objective': 'regression',\n",
    "    'metric': 'rmse',\n",
    "    'boosting_type': 'gbdt',\n",
    "    'max_depth': 10,\n",
    "    'num_leaves': 1025,  \n",
    "    'learning_rate': 0.1,\n",
    "    'verbose': -1  \n",
    "}\n",
    "\n",
    "start_train_time = time.time()\n",
    "model_lgb = lgb.train(params, train_data, valid_sets=[valid_data], num_boost_round=100)\n",
    "end_train_time = time.time()\n",
    "train_time_lgb = end_train_time - start_train_time\n",
    "\n",
    "start_pred_time = time.time()\n",
    "predictions_valid_lgb = model_lgb.predict(features_tree_valid)\n",
    "end_pred_time = time.time()\n",
    "pred_time_lgb = end_pred_time - start_pred_time\n",
    "\n",
    "rmse_lgb_valid = mean_squared_error(target_tree_valid, predictions_valid_lgb) ** 0.5\n",
    "print(f'LightGBM - RMSE en validación: {rmse_lgb_valid:.2f}, Tiempo de entrenamiento: {train_time_lgb:.2f} s, Tiempo de predicción: {pred_time_lgb:.2f} s')\n",
    "\n",
    "# Evaluación final en el conjunto de prueba\n",
    "predictions_test_lgb = model_lgb.predict(features_tree_test)\n",
    "rmse_lgb_test = mean_squared_error(target_tree_test, predictions_test_lgb) ** 0.5\n",
    "print(f'LightGBM - RMSE en prueba: {rmse_lgb_test:.2f}')\n",
    "\n",
    "# Liberar memoria\n",
    "del predictions_valid_lgb, predictions_test_lgb, train_data, valid_data\n",
    "gc.collect()"
   ]
  },
  {
   "cell_type": "markdown",
   "metadata": {},
   "source": [
    "Preparación de Datos: Los datos se convierten en un formato compatible con LightGBM.\n",
    "\n",
    "Entrenamiento: Se entrena el modelo con los parámetros definidos y se mide el tiempo de entrenamiento.\n",
    "\n",
    "Evaluación: Se calculan las predicciones, el RMSE y se mide el tiempo de predicción.\n",
    "\n",
    "Finalmente calculamos el RMSE de prueba dandonos un 315.84."
   ]
  },
  {
   "cell_type": "markdown",
   "metadata": {},
   "source": [
    "## Analisis del modelo"
   ]
  },
  {
   "cell_type": "markdown",
   "metadata": {},
   "source": [
    "- Regresión Lineal: Mostró un RMSE de 2859.03 para el conjunto de prueba, lo que indica que no captura bien la complejidad de los datos."
   ]
  },
  {
   "cell_type": "markdown",
   "metadata": {},
   "source": [
    "- Árbol de Decisión: Mejoró significativamente el RMSE a medida que aumentaba la profundidad, con un mejor resultado de 461.91 en max_depth=10."
   ]
  },
  {
   "cell_type": "markdown",
   "metadata": {},
   "source": [
    "- Bosque Aleatorio: Superó al árbol de decisión, alcanzando un RMSE de 442.45 en max_depth=10, mostrando la ventaja de agregar múltiples árboles y reducir el sobreajuste."
   ]
  },
  {
   "cell_type": "code",
   "execution_count": 52,
   "metadata": {},
   "outputs": [
    {
     "name": "stdout",
     "output_type": "stream",
     "text": [
      "LightGBM - RMSE en prueba: 315.84, Tiempo de predicción en prueba: 0.21 s\n"
     ]
    },
    {
     "data": {
      "text/plain": [
       "4"
      ]
     },
     "execution_count": 52,
     "metadata": {},
     "output_type": "execute_result"
    }
   ],
   "source": [
    "# Medir el tiempo de predicción en el conjunto de prueba\n",
    "start_pred_time = time.time()\n",
    "predictions_test_lgb = model_lgb.predict(features_tree_test)\n",
    "end_pred_time = time.time()\n",
    "pred_time_lgb_test = end_pred_time - start_pred_time\n",
    "\n",
    "# Calcular RMSE en el conjunto de prueba\n",
    "rmse_lgb_test = mean_squared_error(target_tree_test, predictions_test_lgb) ** 0.5\n",
    "print(f'LightGBM - RMSE en prueba: {rmse_lgb_test:.2f}, Tiempo de predicción en prueba: {pred_time_lgb_test:.2f} s')\n",
    "\n",
    "# Liberar memoria\n",
    "del predictions_test_lgb\n",
    "gc.collect()"
   ]
  },
  {
   "cell_type": "markdown",
   "metadata": {},
   "source": [
    "Después de entrenar y validar varios modelos, incluyendo Regresión Lineal, Árbol de Decisión y Bosque Aleatorio, seleccionamos LightGBM como el mejor modelo para este problema debido a su bajo RMSE en el conjunto de validación (316.31) y su rápido tiempo de predicción.\n",
    "\n",
    "Para confirmar la robustez de este modelo, se realizó una evaluación final utilizando el conjunto de prueba.\n",
    "\n",
    "El modelo LightGBM arrojó los siguientes resultados en el conjunto de prueba:\n",
    "\n",
    "- RMSE en prueba: 315.84\n",
    "- Tiempo de predicción en prueba: 0.21 segundos\n",
    "\n",
    "Estos resultados son consistentes con el rendimiento observado en la validación, lo que indica que el modelo generaliza bien a nuevos datos.\n",
    "\n",
    "Con estos resultados, LightGBM demuestra ser el modelo más efectivo y confiable para predecir el valor de mercado de los coches de segunda mano en este proyecto."
   ]
  },
  {
   "cell_type": "markdown",
   "metadata": {},
   "source": [
    "## Conclusiones:"
   ]
  },
  {
   "cell_type": "markdown",
   "metadata": {},
   "source": [
    "- LightGBM demostró ser el modelo con la mejor calidad de predicción, con un RMSE de 315.84 para el conjunto de prueba, lo que sugiere que este modelo es el más preciso para predecir el precio de los coches de segunda mano.\n",
    "\n",
    "- Bosque Aleatorio también mostró un buen rendimiento, con un RMSE que mejora con la profundidad del modelo, alcanzando 375.93 a una profundidad de 10 para el conjunto de prueba.\n",
    "\n",
    "- Árbol de Decisión proporcionó una solución más simple pero menos precisa, con un RMSE de 393.28 para conjunto de prueba.\n",
    "\n",
    "- Regresión Lineal tuvo el RMSE más alto (2859.03), confirmando que las relaciones en los datos no son lineales y requieren modelos más complejos para capturar patrones precisos.\n",
    "\n",
    "- Bosque Aleatorio demostró ser efectivo, pero a un costo de tiempo de entrenamiento significativamente más largo, especialmente a medida que aumenta la profundidad del modelo.\n",
    "\n",
    "- LightGBM se destaca como la mejor opción cuando se busca un equilibrio entre precisión y eficiencia de tiempo, tanto en entrenamiento como en predicción.\n",
    "\n",
    "- LightGBM es la opción más adecuada para la implementación en producción, ya que ofrece la mejor calidad de predicción con tiempos de entrenamiento y predicción razonables.\n",
    "\n",
    "- El preprocesamiento y la codificación de variables categóricas fueron cruciales para el rendimiento de los modelos. La elección adecuada de técnicas de preprocesamiento, como la imputación de valores nulos y la estandarización, mejoró el rendimiento de los modelos.\n",
    "\n",
    "- Se recomienda utilizar LightGBM como el modelo principal para la predicción del valor de mercado de los coches, debido a su equilibrio entre precisión y eficiencia de tiempo. \n"
   ]
  }
 ],
 "metadata": {
  "ExecuteTimeLog": [
   {
    "duration": 5211,
    "start_time": "2024-07-23T20:25:56.167Z"
   },
   {
    "duration": 880,
    "start_time": "2024-07-23T20:26:11.534Z"
   },
   {
    "duration": 728,
    "start_time": "2024-07-23T20:26:28.199Z"
   },
   {
    "duration": 255,
    "start_time": "2024-07-23T20:27:13.421Z"
   },
   {
    "duration": 575,
    "start_time": "2024-07-23T20:27:32.145Z"
   },
   {
    "duration": 573,
    "start_time": "2024-07-23T20:27:50.820Z"
   },
   {
    "duration": 451,
    "start_time": "2024-07-23T20:27:56.284Z"
   },
   {
    "duration": 584,
    "start_time": "2024-07-23T20:28:05.459Z"
   },
   {
    "duration": 442,
    "start_time": "2024-07-23T20:28:24.655Z"
   },
   {
    "duration": 136,
    "start_time": "2024-07-23T20:28:41.634Z"
   },
   {
    "duration": 2608,
    "start_time": "2024-07-23T20:29:08.485Z"
   },
   {
    "duration": 6892,
    "start_time": "2024-07-23T21:37:44.541Z"
   },
   {
    "duration": 995,
    "start_time": "2024-07-23T21:37:51.437Z"
   },
   {
    "duration": 336,
    "start_time": "2024-07-23T21:37:52.436Z"
   },
   {
    "duration": 564,
    "start_time": "2024-07-23T21:37:52.789Z"
   },
   {
    "duration": 219,
    "start_time": "2024-07-23T21:37:53.356Z"
   },
   {
    "duration": 2942,
    "start_time": "2024-07-23T21:37:53.580Z"
   },
   {
    "duration": 128,
    "start_time": "2024-07-23T21:50:57.326Z"
   },
   {
    "duration": 182,
    "start_time": "2024-07-23T21:51:43.558Z"
   },
   {
    "duration": 96,
    "start_time": "2024-07-23T21:52:11.062Z"
   },
   {
    "duration": 160,
    "start_time": "2024-07-23T21:52:13.147Z"
   },
   {
    "duration": 152,
    "start_time": "2024-07-23T21:58:57.860Z"
   },
   {
    "duration": 163,
    "start_time": "2024-07-23T21:58:59.959Z"
   },
   {
    "duration": 168,
    "start_time": "2024-07-23T21:59:05.935Z"
   },
   {
    "duration": 692,
    "start_time": "2024-07-23T21:59:26.782Z"
   },
   {
    "duration": 674,
    "start_time": "2024-07-23T21:59:35.154Z"
   },
   {
    "duration": 38,
    "start_time": "2024-07-23T21:59:53.269Z"
   },
   {
    "duration": 139,
    "start_time": "2024-07-23T22:00:16.565Z"
   },
   {
    "duration": 353,
    "start_time": "2024-07-23T22:01:11.551Z"
   },
   {
    "duration": 1792,
    "start_time": "2024-07-23T22:01:42.608Z"
   },
   {
    "duration": 159,
    "start_time": "2024-07-23T22:01:46.840Z"
   },
   {
    "duration": 1852,
    "start_time": "2024-07-23T22:01:57.872Z"
   },
   {
    "duration": 888,
    "start_time": "2024-07-23T22:01:59.727Z"
   },
   {
    "duration": 290,
    "start_time": "2024-07-23T22:02:00.618Z"
   },
   {
    "duration": 514,
    "start_time": "2024-07-23T22:02:00.911Z"
   },
   {
    "duration": 173,
    "start_time": "2024-07-23T22:02:01.430Z"
   },
   {
    "duration": 2750,
    "start_time": "2024-07-23T22:02:01.607Z"
   },
   {
    "duration": 117,
    "start_time": "2024-07-23T22:02:04.359Z"
   },
   {
    "duration": 661,
    "start_time": "2024-07-23T22:02:04.485Z"
   },
   {
    "duration": 52,
    "start_time": "2024-07-23T22:02:05.149Z"
   },
   {
    "duration": 108,
    "start_time": "2024-07-23T22:02:05.204Z"
   },
   {
    "duration": 1901,
    "start_time": "2024-07-23T22:02:37.207Z"
   },
   {
    "duration": 892,
    "start_time": "2024-07-23T22:02:39.112Z"
   },
   {
    "duration": 313,
    "start_time": "2024-07-23T22:02:40.007Z"
   },
   {
    "duration": 522,
    "start_time": "2024-07-23T22:02:40.325Z"
   },
   {
    "duration": 174,
    "start_time": "2024-07-23T22:02:40.850Z"
   },
   {
    "duration": 2865,
    "start_time": "2024-07-23T22:02:41.027Z"
   },
   {
    "duration": 112,
    "start_time": "2024-07-23T22:02:43.899Z"
   },
   {
    "duration": 704,
    "start_time": "2024-07-23T22:02:44.015Z"
   },
   {
    "duration": 30,
    "start_time": "2024-07-23T22:02:44.722Z"
   },
   {
    "duration": 141,
    "start_time": "2024-07-23T22:02:44.769Z"
   },
   {
    "duration": 1808,
    "start_time": "2024-07-23T22:03:19.402Z"
   },
   {
    "duration": 895,
    "start_time": "2024-07-23T22:03:21.214Z"
   },
   {
    "duration": 309,
    "start_time": "2024-07-23T22:03:22.112Z"
   },
   {
    "duration": 528,
    "start_time": "2024-07-23T22:03:22.425Z"
   },
   {
    "duration": 183,
    "start_time": "2024-07-23T22:03:22.956Z"
   },
   {
    "duration": 2817,
    "start_time": "2024-07-23T22:03:23.142Z"
   },
   {
    "duration": 126,
    "start_time": "2024-07-23T22:03:25.962Z"
   },
   {
    "duration": 661,
    "start_time": "2024-07-23T22:03:26.095Z"
   },
   {
    "duration": 46,
    "start_time": "2024-07-23T22:03:26.760Z"
   },
   {
    "duration": 127,
    "start_time": "2024-07-23T22:03:26.811Z"
   },
   {
    "duration": 344,
    "start_time": "2024-07-23T22:03:52.502Z"
   },
   {
    "duration": 1794,
    "start_time": "2024-07-23T22:04:00.709Z"
   },
   {
    "duration": 908,
    "start_time": "2024-07-23T22:04:02.507Z"
   },
   {
    "duration": 287,
    "start_time": "2024-07-23T22:04:03.418Z"
   },
   {
    "duration": 530,
    "start_time": "2024-07-23T22:04:03.710Z"
   },
   {
    "duration": 173,
    "start_time": "2024-07-23T22:04:04.243Z"
   },
   {
    "duration": 2865,
    "start_time": "2024-07-23T22:04:04.418Z"
   },
   {
    "duration": 112,
    "start_time": "2024-07-23T22:04:07.287Z"
   },
   {
    "duration": 700,
    "start_time": "2024-07-23T22:04:07.402Z"
   },
   {
    "duration": 28,
    "start_time": "2024-07-23T22:04:08.106Z"
   },
   {
    "duration": 136,
    "start_time": "2024-07-23T22:04:08.140Z"
   },
   {
    "duration": 344,
    "start_time": "2024-07-23T22:05:55.619Z"
   },
   {
    "duration": 1810,
    "start_time": "2024-07-23T22:06:02.616Z"
   },
   {
    "duration": 928,
    "start_time": "2024-07-23T22:06:05.736Z"
   },
   {
    "duration": 277,
    "start_time": "2024-07-23T22:06:09.603Z"
   },
   {
    "duration": 514,
    "start_time": "2024-07-23T22:06:14.804Z"
   },
   {
    "duration": 179,
    "start_time": "2024-07-23T22:06:18.012Z"
   },
   {
    "duration": 2728,
    "start_time": "2024-07-23T22:06:20.945Z"
   },
   {
    "duration": 101,
    "start_time": "2024-07-23T22:06:27.957Z"
   },
   {
    "duration": 2159,
    "start_time": "2024-07-23T22:07:59.033Z"
   },
   {
    "duration": 1145,
    "start_time": "2024-07-23T22:08:01.208Z"
   },
   {
    "duration": 413,
    "start_time": "2024-07-23T22:08:02.356Z"
   },
   {
    "duration": 634,
    "start_time": "2024-07-23T22:08:02.773Z"
   },
   {
    "duration": 226,
    "start_time": "2024-07-23T22:08:03.413Z"
   },
   {
    "duration": 3215,
    "start_time": "2024-07-23T22:08:03.643Z"
   },
   {
    "duration": 160,
    "start_time": "2024-07-23T22:08:06.862Z"
   },
   {
    "duration": 803,
    "start_time": "2024-07-23T22:08:07.025Z"
   },
   {
    "duration": 51,
    "start_time": "2024-07-23T22:08:07.835Z"
   },
   {
    "duration": 144,
    "start_time": "2024-07-23T22:08:07.890Z"
   },
   {
    "duration": 1859,
    "start_time": "2024-07-23T22:10:42.470Z"
   },
   {
    "duration": 895,
    "start_time": "2024-07-23T22:10:44.332Z"
   },
   {
    "duration": 307,
    "start_time": "2024-07-23T22:10:45.230Z"
   },
   {
    "duration": 519,
    "start_time": "2024-07-23T22:10:45.539Z"
   },
   {
    "duration": 172,
    "start_time": "2024-07-23T22:10:46.069Z"
   },
   {
    "duration": 2856,
    "start_time": "2024-07-23T22:10:46.244Z"
   },
   {
    "duration": 102,
    "start_time": "2024-07-23T22:10:49.104Z"
   },
   {
    "duration": 651,
    "start_time": "2024-07-23T22:10:49.209Z"
   },
   {
    "duration": 31,
    "start_time": "2024-07-23T22:10:49.875Z"
   },
   {
    "duration": 117,
    "start_time": "2024-07-23T22:10:49.909Z"
   },
   {
    "duration": 356,
    "start_time": "2024-07-23T22:11:56.119Z"
   },
   {
    "duration": 1819,
    "start_time": "2024-07-23T22:12:02.288Z"
   },
   {
    "duration": 5,
    "start_time": "2024-07-23T22:12:07.957Z"
   },
   {
    "duration": 155,
    "start_time": "2024-07-23T22:12:10.878Z"
   },
   {
    "duration": 1805,
    "start_time": "2024-07-23T22:12:22.855Z"
   },
   {
    "duration": 928,
    "start_time": "2024-07-23T22:12:24.664Z"
   },
   {
    "duration": 287,
    "start_time": "2024-07-23T22:12:25.600Z"
   },
   {
    "duration": 530,
    "start_time": "2024-07-23T22:12:25.893Z"
   },
   {
    "duration": 171,
    "start_time": "2024-07-23T22:12:26.428Z"
   },
   {
    "duration": 2839,
    "start_time": "2024-07-23T22:12:26.602Z"
   },
   {
    "duration": 117,
    "start_time": "2024-07-23T22:12:29.444Z"
   },
   {
    "duration": 696,
    "start_time": "2024-07-23T22:12:29.564Z"
   },
   {
    "duration": 36,
    "start_time": "2024-07-23T22:12:30.263Z"
   },
   {
    "duration": 125,
    "start_time": "2024-07-23T22:12:30.303Z"
   },
   {
    "duration": 4,
    "start_time": "2024-07-23T22:12:30.434Z"
   },
   {
    "duration": 1806,
    "start_time": "2024-07-23T22:18:13.625Z"
   },
   {
    "duration": 900,
    "start_time": "2024-07-23T22:18:15.435Z"
   },
   {
    "duration": 302,
    "start_time": "2024-07-23T22:18:16.338Z"
   },
   {
    "duration": 517,
    "start_time": "2024-07-23T22:18:16.643Z"
   },
   {
    "duration": 165,
    "start_time": "2024-07-23T22:18:17.169Z"
   },
   {
    "duration": 2754,
    "start_time": "2024-07-23T22:18:17.337Z"
   },
   {
    "duration": 112,
    "start_time": "2024-07-23T22:18:20.094Z"
   },
   {
    "duration": 654,
    "start_time": "2024-07-23T22:18:20.209Z"
   },
   {
    "duration": 40,
    "start_time": "2024-07-23T22:18:20.871Z"
   },
   {
    "duration": 131,
    "start_time": "2024-07-23T22:18:20.914Z"
   },
   {
    "duration": 5,
    "start_time": "2024-07-23T22:18:21.047Z"
   },
   {
    "duration": 1798,
    "start_time": "2024-07-23T22:19:38.014Z"
   },
   {
    "duration": 870,
    "start_time": "2024-07-23T22:19:39.816Z"
   },
   {
    "duration": 304,
    "start_time": "2024-07-23T22:19:40.690Z"
   },
   {
    "duration": 511,
    "start_time": "2024-07-23T22:19:40.998Z"
   },
   {
    "duration": 165,
    "start_time": "2024-07-23T22:19:41.513Z"
   },
   {
    "duration": 2800,
    "start_time": "2024-07-23T22:19:41.682Z"
   },
   {
    "duration": 111,
    "start_time": "2024-07-23T22:19:44.487Z"
   },
   {
    "duration": 681,
    "start_time": "2024-07-23T22:19:44.602Z"
   },
   {
    "duration": 28,
    "start_time": "2024-07-23T22:19:45.288Z"
   },
   {
    "duration": 118,
    "start_time": "2024-07-23T22:19:45.319Z"
   },
   {
    "duration": 8,
    "start_time": "2024-07-23T22:19:45.440Z"
   },
   {
    "duration": 1831,
    "start_time": "2024-07-23T22:24:51.773Z"
   },
   {
    "duration": 877,
    "start_time": "2024-07-23T22:24:53.833Z"
   },
   {
    "duration": 30,
    "start_time": "2024-07-23T22:25:02.420Z"
   },
   {
    "duration": 131,
    "start_time": "2024-07-23T22:25:03.548Z"
   },
   {
    "duration": 4,
    "start_time": "2024-07-23T22:25:06.394Z"
   },
   {
    "duration": 1181,
    "start_time": "2024-07-23T22:25:08.530Z"
   },
   {
    "duration": 16,
    "start_time": "2024-07-23T22:25:21.867Z"
   },
   {
    "duration": 1828,
    "start_time": "2024-07-23T22:25:35.736Z"
   },
   {
    "duration": 945,
    "start_time": "2024-07-23T22:25:37.568Z"
   },
   {
    "duration": 296,
    "start_time": "2024-07-23T22:25:38.516Z"
   },
   {
    "duration": 530,
    "start_time": "2024-07-23T22:25:38.815Z"
   },
   {
    "duration": 171,
    "start_time": "2024-07-23T22:25:39.350Z"
   },
   {
    "duration": 2782,
    "start_time": "2024-07-23T22:25:39.524Z"
   },
   {
    "duration": 108,
    "start_time": "2024-07-23T22:25:42.308Z"
   },
   {
    "duration": 673,
    "start_time": "2024-07-23T22:25:42.418Z"
   },
   {
    "duration": 26,
    "start_time": "2024-07-23T22:25:43.103Z"
   },
   {
    "duration": 117,
    "start_time": "2024-07-23T22:25:43.132Z"
   },
   {
    "duration": 5,
    "start_time": "2024-07-23T22:25:43.251Z"
   },
   {
    "duration": 1170,
    "start_time": "2024-07-23T22:25:43.269Z"
   },
   {
    "duration": 4,
    "start_time": "2024-07-23T22:25:44.442Z"
   },
   {
    "duration": 357,
    "start_time": "2024-07-23T22:26:07.479Z"
   },
   {
    "duration": 1835,
    "start_time": "2024-07-23T22:26:16.916Z"
   },
   {
    "duration": 898,
    "start_time": "2024-07-23T22:26:18.756Z"
   },
   {
    "duration": 297,
    "start_time": "2024-07-23T22:26:19.657Z"
   },
   {
    "duration": 510,
    "start_time": "2024-07-23T22:26:19.958Z"
   },
   {
    "duration": 157,
    "start_time": "2024-07-23T22:26:20.480Z"
   },
   {
    "duration": 2842,
    "start_time": "2024-07-23T22:26:20.640Z"
   },
   {
    "duration": 115,
    "start_time": "2024-07-23T22:26:23.485Z"
   },
   {
    "duration": 670,
    "start_time": "2024-07-23T22:26:23.603Z"
   },
   {
    "duration": 35,
    "start_time": "2024-07-23T22:26:24.278Z"
   },
   {
    "duration": 136,
    "start_time": "2024-07-23T22:26:24.317Z"
   },
   {
    "duration": 1191,
    "start_time": "2024-07-23T22:26:24.456Z"
   },
   {
    "duration": 366,
    "start_time": "2024-07-23T22:28:22.135Z"
   },
   {
    "duration": 27,
    "start_time": "2024-07-23T22:28:25.003Z"
   },
   {
    "duration": 1778,
    "start_time": "2024-07-23T22:28:30.245Z"
   },
   {
    "duration": 879,
    "start_time": "2024-07-23T22:28:32.126Z"
   },
   {
    "duration": 106,
    "start_time": "2024-07-23T22:28:36.944Z"
   },
   {
    "duration": 659,
    "start_time": "2024-07-23T22:28:39.000Z"
   },
   {
    "duration": 28,
    "start_time": "2024-07-23T22:28:42.798Z"
   },
   {
    "duration": 125,
    "start_time": "2024-07-23T22:28:45.013Z"
   },
   {
    "duration": 1170,
    "start_time": "2024-07-23T22:28:54.120Z"
   },
   {
    "duration": 5431,
    "start_time": "2024-07-24T03:08:29.350Z"
   },
   {
    "duration": 858,
    "start_time": "2024-07-24T03:08:34.785Z"
   },
   {
    "duration": 268,
    "start_time": "2024-07-24T03:08:35.646Z"
   },
   {
    "duration": 475,
    "start_time": "2024-07-24T03:08:35.920Z"
   },
   {
    "duration": 148,
    "start_time": "2024-07-24T03:08:36.398Z"
   },
   {
    "duration": 2639,
    "start_time": "2024-07-24T03:08:36.550Z"
   },
   {
    "duration": 100,
    "start_time": "2024-07-24T03:08:39.193Z"
   },
   {
    "duration": 619,
    "start_time": "2024-07-24T03:08:39.296Z"
   },
   {
    "duration": 31,
    "start_time": "2024-07-24T03:08:39.919Z"
   },
   {
    "duration": 143,
    "start_time": "2024-07-24T03:08:39.957Z"
   },
   {
    "duration": 1118,
    "start_time": "2024-07-24T03:08:40.103Z"
   },
   {
    "duration": 1621,
    "start_time": "2024-07-24T04:11:16.741Z"
   },
   {
    "duration": 794,
    "start_time": "2024-07-24T04:11:18.365Z"
   },
   {
    "duration": 4,
    "start_time": "2024-07-24T04:11:19.162Z"
   },
   {
    "duration": 10,
    "start_time": "2024-07-24T04:18:15.388Z"
   },
   {
    "duration": 318,
    "start_time": "2024-07-24T04:19:23.369Z"
   },
   {
    "duration": 1696,
    "start_time": "2024-07-24T04:19:27.364Z"
   },
   {
    "duration": 139,
    "start_time": "2024-07-24T04:19:29.508Z"
   },
   {
    "duration": 809,
    "start_time": "2024-07-24T04:20:38.920Z"
   },
   {
    "duration": 254,
    "start_time": "2024-07-24T04:20:42.830Z"
   },
   {
    "duration": 252,
    "start_time": "2024-07-24T04:20:54.560Z"
   },
   {
    "duration": 21,
    "start_time": "2024-07-24T04:21:12.256Z"
   },
   {
    "duration": 8,
    "start_time": "2024-07-24T04:21:18.498Z"
   },
   {
    "duration": 311,
    "start_time": "2024-07-24T04:21:25.438Z"
   },
   {
    "duration": 6,
    "start_time": "2024-07-24T04:30:43.341Z"
   },
   {
    "duration": 722,
    "start_time": "2024-07-24T04:30:45.341Z"
   },
   {
    "duration": 18,
    "start_time": "2024-07-24T04:30:46.148Z"
   },
   {
    "duration": 246,
    "start_time": "2024-07-24T04:30:47.352Z"
   },
   {
    "duration": 112,
    "start_time": "2024-07-24T04:30:52.213Z"
   },
   {
    "duration": 128,
    "start_time": "2024-07-24T04:31:09.234Z"
   },
   {
    "duration": 193,
    "start_time": "2024-07-24T04:31:19.130Z"
   },
   {
    "duration": 92,
    "start_time": "2024-07-24T04:32:21.961Z"
   },
   {
    "duration": 87,
    "start_time": "2024-07-24T04:32:53.783Z"
   },
   {
    "duration": 50,
    "start_time": "2024-07-24T04:34:34.497Z"
   },
   {
    "duration": 3437,
    "start_time": "2024-07-24T04:34:46.900Z"
   },
   {
    "duration": 9,
    "start_time": "2024-07-24T04:34:59.703Z"
   },
   {
    "duration": 18,
    "start_time": "2024-07-24T04:35:11.001Z"
   },
   {
    "duration": 9,
    "start_time": "2024-07-24T04:36:03.805Z"
   },
   {
    "duration": 4,
    "start_time": "2024-07-24T04:36:29.580Z"
   },
   {
    "duration": 4,
    "start_time": "2024-07-24T04:36:41.948Z"
   },
   {
    "duration": 4461,
    "start_time": "2024-07-24T04:36:59.245Z"
   },
   {
    "duration": 172,
    "start_time": "2024-07-24T04:37:17.904Z"
   },
   {
    "duration": 7,
    "start_time": "2024-07-24T04:37:28.928Z"
   },
   {
    "duration": 4,
    "start_time": "2024-07-24T04:37:42.556Z"
   },
   {
    "duration": 5,
    "start_time": "2024-07-24T04:38:01.526Z"
   },
   {
    "duration": 1770,
    "start_time": "2024-07-24T04:40:25.885Z"
   },
   {
    "duration": 754,
    "start_time": "2024-07-24T04:40:27.659Z"
   },
   {
    "duration": 23,
    "start_time": "2024-07-24T04:40:28.416Z"
   },
   {
    "duration": 312,
    "start_time": "2024-07-24T04:40:28.442Z"
   },
   {
    "duration": 132,
    "start_time": "2024-07-24T04:40:28.758Z"
   },
   {
    "duration": 143,
    "start_time": "2024-07-24T04:40:28.893Z"
   },
   {
    "duration": 50,
    "start_time": "2024-07-24T04:40:29.040Z"
   },
   {
    "duration": 3513,
    "start_time": "2024-07-24T04:40:29.094Z"
   },
   {
    "duration": 10,
    "start_time": "2024-07-24T04:40:32.610Z"
   },
   {
    "duration": 21,
    "start_time": "2024-07-24T04:40:32.624Z"
   },
   {
    "duration": 6,
    "start_time": "2024-07-24T04:40:32.647Z"
   },
   {
    "duration": 42,
    "start_time": "2024-07-24T04:40:32.656Z"
   },
   {
    "duration": 4795,
    "start_time": "2024-07-24T04:40:32.703Z"
   },
   {
    "duration": 331,
    "start_time": "2024-07-24T04:40:37.503Z"
   },
   {
    "duration": 6,
    "start_time": "2024-07-24T04:40:37.837Z"
   },
   {
    "duration": 5,
    "start_time": "2024-07-24T04:40:37.846Z"
   },
   {
    "duration": 4,
    "start_time": "2024-07-24T04:40:37.854Z"
   },
   {
    "duration": 1779,
    "start_time": "2024-07-24T04:46:26.706Z"
   },
   {
    "duration": 767,
    "start_time": "2024-07-24T04:46:28.490Z"
   },
   {
    "duration": 36,
    "start_time": "2024-07-24T04:46:29.260Z"
   },
   {
    "duration": 270,
    "start_time": "2024-07-24T04:46:29.301Z"
   },
   {
    "duration": 131,
    "start_time": "2024-07-24T04:46:29.575Z"
   },
   {
    "duration": 123,
    "start_time": "2024-07-24T04:46:29.710Z"
   },
   {
    "duration": 40,
    "start_time": "2024-07-24T04:46:29.837Z"
   },
   {
    "duration": 3521,
    "start_time": "2024-07-24T04:46:29.891Z"
   },
   {
    "duration": 9,
    "start_time": "2024-07-24T04:46:33.415Z"
   },
   {
    "duration": 21,
    "start_time": "2024-07-24T04:46:33.430Z"
   },
   {
    "duration": 6,
    "start_time": "2024-07-24T04:46:33.455Z"
   },
   {
    "duration": 5,
    "start_time": "2024-07-24T04:46:33.493Z"
   },
   {
    "duration": 4392,
    "start_time": "2024-07-24T04:46:33.503Z"
   },
   {
    "duration": 318,
    "start_time": "2024-07-24T04:46:37.898Z"
   },
   {
    "duration": 6,
    "start_time": "2024-07-24T04:46:38.220Z"
   },
   {
    "duration": 6,
    "start_time": "2024-07-24T04:46:38.231Z"
   },
   {
    "duration": 5,
    "start_time": "2024-07-24T04:46:38.240Z"
   },
   {
    "duration": 5383,
    "start_time": "2024-07-30T19:48:10.200Z"
   },
   {
    "duration": 853,
    "start_time": "2024-07-30T19:48:15.587Z"
   },
   {
    "duration": 24,
    "start_time": "2024-07-30T19:48:16.444Z"
   },
   {
    "duration": 295,
    "start_time": "2024-07-30T19:48:16.471Z"
   },
   {
    "duration": 123,
    "start_time": "2024-07-30T19:48:16.769Z"
   },
   {
    "duration": 127,
    "start_time": "2024-07-30T19:48:16.895Z"
   },
   {
    "duration": 41,
    "start_time": "2024-07-30T19:48:17.024Z"
   },
   {
    "duration": 3486,
    "start_time": "2024-07-30T19:48:17.070Z"
   },
   {
    "duration": 10,
    "start_time": "2024-07-30T19:48:20.559Z"
   },
   {
    "duration": 25,
    "start_time": "2024-07-30T19:48:20.575Z"
   },
   {
    "duration": 26,
    "start_time": "2024-07-30T19:48:20.603Z"
   },
   {
    "duration": 4,
    "start_time": "2024-07-30T19:48:20.633Z"
   },
   {
    "duration": 5215,
    "start_time": "2024-07-30T19:48:20.639Z"
   },
   {
    "duration": 260,
    "start_time": "2024-07-30T19:48:25.927Z"
   },
   {
    "duration": 7,
    "start_time": "2024-07-30T19:48:26.190Z"
   },
   {
    "duration": 4,
    "start_time": "2024-07-30T19:48:26.202Z"
   },
   {
    "duration": 17,
    "start_time": "2024-07-30T19:48:26.210Z"
   },
   {
    "duration": 1295,
    "start_time": "2024-07-30T19:51:56.475Z"
   },
   {
    "duration": 768,
    "start_time": "2024-07-30T19:51:57.774Z"
   },
   {
    "duration": 24,
    "start_time": "2024-07-30T19:51:58.545Z"
   },
   {
    "duration": 270,
    "start_time": "2024-07-30T19:51:58.574Z"
   },
   {
    "duration": 134,
    "start_time": "2024-07-30T19:51:58.850Z"
   },
   {
    "duration": 131,
    "start_time": "2024-07-30T19:51:58.989Z"
   },
   {
    "duration": 156,
    "start_time": "2024-07-30T19:53:38.909Z"
   },
   {
    "duration": 2369,
    "start_time": "2024-07-30T19:54:48.236Z"
   },
   {
    "duration": 1294,
    "start_time": "2024-07-30T19:55:56.389Z"
   },
   {
    "duration": 767,
    "start_time": "2024-07-30T19:55:57.687Z"
   },
   {
    "duration": 26,
    "start_time": "2024-07-30T19:55:58.456Z"
   },
   {
    "duration": 272,
    "start_time": "2024-07-30T19:55:58.486Z"
   },
   {
    "duration": 254,
    "start_time": "2024-07-30T19:55:58.762Z"
   },
   {
    "duration": 2214,
    "start_time": "2024-07-30T19:55:59.019Z"
   },
   {
    "duration": 26008,
    "start_time": "2024-07-30T19:56:35.366Z"
   },
   {
    "duration": 25891,
    "start_time": "2024-07-30T19:57:30.651Z"
   },
   {
    "duration": 12837,
    "start_time": "2024-07-30T19:59:52.946Z"
   },
   {
    "duration": 421317,
    "start_time": "2024-07-30T20:00:42.944Z"
   },
   {
    "duration": 14993,
    "start_time": "2024-07-30T20:10:20.748Z"
   },
   {
    "duration": 15179,
    "start_time": "2024-07-30T20:11:05.455Z"
   },
   {
    "duration": 1220,
    "start_time": "2024-07-30T20:14:00.583Z"
   },
   {
    "duration": 781,
    "start_time": "2024-07-30T20:14:01.806Z"
   },
   {
    "duration": 24,
    "start_time": "2024-07-30T20:14:02.589Z"
   },
   {
    "duration": 253,
    "start_time": "2024-07-30T20:14:02.627Z"
   },
   {
    "duration": 246,
    "start_time": "2024-07-30T20:14:02.886Z"
   },
   {
    "duration": 2161,
    "start_time": "2024-07-30T20:14:03.135Z"
   },
   {
    "duration": 24429,
    "start_time": "2024-07-30T20:14:05.299Z"
   },
   {
    "duration": 24196,
    "start_time": "2024-07-30T20:14:29.731Z"
   },
   {
    "duration": 12865,
    "start_time": "2024-07-30T20:14:53.929Z"
   },
   {
    "duration": 419125,
    "start_time": "2024-07-30T20:15:06.797Z"
   },
   {
    "duration": 15042,
    "start_time": "2024-07-30T20:22:05.927Z"
   },
   {
    "duration": 4831,
    "start_time": "2024-07-30T21:24:27.422Z"
   },
   {
    "duration": 798,
    "start_time": "2024-07-30T21:24:32.257Z"
   },
   {
    "duration": 22,
    "start_time": "2024-07-30T21:24:33.058Z"
   },
   {
    "duration": 263,
    "start_time": "2024-07-30T21:24:33.083Z"
   },
   {
    "duration": 249,
    "start_time": "2024-07-30T21:24:33.350Z"
   },
   {
    "duration": 2123,
    "start_time": "2024-07-30T21:24:33.602Z"
   },
   {
    "duration": 24517,
    "start_time": "2024-07-30T21:24:35.729Z"
   },
   {
    "duration": 24690,
    "start_time": "2024-07-30T21:25:00.249Z"
   },
   {
    "duration": 12852,
    "start_time": "2024-07-30T21:25:24.942Z"
   },
   {
    "duration": 430053,
    "start_time": "2024-07-30T21:25:37.797Z"
   },
   {
    "duration": 133201,
    "start_time": "2024-07-30T21:32:47.853Z"
   },
   {
    "duration": 570,
    "start_time": "2024-07-30T21:35:01.057Z"
   },
   {
    "duration": 0,
    "start_time": "2024-07-30T21:35:01.635Z"
   },
   {
    "duration": 27,
    "start_time": "2024-07-30T21:35:57.968Z"
   },
   {
    "duration": 27,
    "start_time": "2024-07-30T21:36:09.609Z"
   },
   {
    "duration": 744,
    "start_time": "2024-07-30T21:36:13.961Z"
   },
   {
    "duration": 25,
    "start_time": "2024-07-30T21:36:16.205Z"
   },
   {
    "duration": 16,
    "start_time": "2024-07-30T21:36:23.381Z"
   },
   {
    "duration": 1370,
    "start_time": "2024-08-03T07:01:59.389Z"
   },
   {
    "duration": 811,
    "start_time": "2024-08-03T07:02:04.683Z"
   },
   {
    "duration": 267,
    "start_time": "2024-08-03T07:02:25.779Z"
   },
   {
    "duration": 47,
    "start_time": "2024-08-03T07:02:47.951Z"
   },
   {
    "duration": 22,
    "start_time": "2024-08-03T07:02:56.113Z"
   },
   {
    "duration": 90,
    "start_time": "2024-08-03T07:03:23.316Z"
   },
   {
    "duration": 128,
    "start_time": "2024-08-03T07:03:37.847Z"
   },
   {
    "duration": 95,
    "start_time": "2024-08-03T07:03:55.904Z"
   },
   {
    "duration": 733,
    "start_time": "2024-08-03T07:04:40.298Z"
   },
   {
    "duration": 4,
    "start_time": "2024-08-03T07:04:53.762Z"
   },
   {
    "duration": 166,
    "start_time": "2024-08-03T07:04:56.974Z"
   },
   {
    "duration": 22,
    "start_time": "2024-08-03T07:05:08.084Z"
   },
   {
    "duration": 315,
    "start_time": "2024-08-03T07:06:11.326Z"
   },
   {
    "duration": 1334,
    "start_time": "2024-08-03T07:06:22.980Z"
   },
   {
    "duration": 795,
    "start_time": "2024-08-03T07:06:24.318Z"
   },
   {
    "duration": 25,
    "start_time": "2024-08-03T07:06:25.116Z"
   },
   {
    "duration": 265,
    "start_time": "2024-08-03T07:06:25.146Z"
   },
   {
    "duration": 30,
    "start_time": "2024-08-03T07:06:25.414Z"
   },
   {
    "duration": 116,
    "start_time": "2024-08-03T07:06:25.447Z"
   },
   {
    "duration": 135,
    "start_time": "2024-08-03T07:06:25.568Z"
   },
   {
    "duration": 94,
    "start_time": "2024-08-03T07:06:25.707Z"
   },
   {
    "duration": 758,
    "start_time": "2024-08-03T07:06:25.806Z"
   },
   {
    "duration": 191,
    "start_time": "2024-08-03T07:06:26.568Z"
   },
   {
    "duration": 39,
    "start_time": "2024-08-03T07:06:26.762Z"
   },
   {
    "duration": 312,
    "start_time": "2024-08-03T07:06:44.151Z"
   },
   {
    "duration": 22,
    "start_time": "2024-08-03T07:06:53.026Z"
   },
   {
    "duration": 28,
    "start_time": "2024-08-03T07:06:55.338Z"
   },
   {
    "duration": 1293,
    "start_time": "2024-08-03T07:07:01.556Z"
   },
   {
    "duration": 790,
    "start_time": "2024-08-03T07:07:04.795Z"
   },
   {
    "duration": 25,
    "start_time": "2024-08-03T07:07:10.239Z"
   },
   {
    "duration": 245,
    "start_time": "2024-08-03T07:07:14.173Z"
   },
   {
    "duration": 28,
    "start_time": "2024-08-03T07:07:19.220Z"
   },
   {
    "duration": 92,
    "start_time": "2024-08-03T07:07:21.809Z"
   },
   {
    "duration": 127,
    "start_time": "2024-08-03T07:07:25.706Z"
   },
   {
    "duration": 86,
    "start_time": "2024-08-03T07:07:27.790Z"
   },
   {
    "duration": 720,
    "start_time": "2024-08-03T07:07:31.896Z"
   },
   {
    "duration": 162,
    "start_time": "2024-08-03T07:07:34.257Z"
   },
   {
    "duration": 21,
    "start_time": "2024-08-03T07:07:36.316Z"
   },
   {
    "duration": 1272,
    "start_time": "2024-08-03T07:08:49.474Z"
   },
   {
    "duration": 805,
    "start_time": "2024-08-03T07:08:50.749Z"
   },
   {
    "duration": 26,
    "start_time": "2024-08-03T07:08:51.556Z"
   },
   {
    "duration": 265,
    "start_time": "2024-08-03T07:08:51.601Z"
   },
   {
    "duration": 44,
    "start_time": "2024-08-03T07:08:51.869Z"
   },
   {
    "duration": 105,
    "start_time": "2024-08-03T07:08:51.916Z"
   },
   {
    "duration": 141,
    "start_time": "2024-08-03T07:08:52.024Z"
   },
   {
    "duration": 96,
    "start_time": "2024-08-03T07:08:52.167Z"
   },
   {
    "duration": 746,
    "start_time": "2024-08-03T07:08:52.266Z"
   },
   {
    "duration": 190,
    "start_time": "2024-08-03T07:08:53.016Z"
   },
   {
    "duration": 22,
    "start_time": "2024-08-03T07:08:53.209Z"
   },
   {
    "duration": 313,
    "start_time": "2024-08-03T07:09:36.945Z"
   },
   {
    "duration": 1314,
    "start_time": "2024-08-03T07:09:49.939Z"
   },
   {
    "duration": 838,
    "start_time": "2024-08-03T07:09:51.257Z"
   },
   {
    "duration": 25,
    "start_time": "2024-08-03T07:09:52.097Z"
   },
   {
    "duration": 262,
    "start_time": "2024-08-03T07:09:52.127Z"
   },
   {
    "duration": 35,
    "start_time": "2024-08-03T07:09:52.392Z"
   },
   {
    "duration": 109,
    "start_time": "2024-08-03T07:09:52.431Z"
   },
   {
    "duration": 134,
    "start_time": "2024-08-03T07:09:52.543Z"
   },
   {
    "duration": 90,
    "start_time": "2024-08-03T07:09:52.680Z"
   },
   {
    "duration": 698,
    "start_time": "2024-08-03T07:09:52.773Z"
   },
   {
    "duration": 197,
    "start_time": "2024-08-03T07:09:53.476Z"
   },
   {
    "duration": 32,
    "start_time": "2024-08-03T07:09:53.676Z"
   },
   {
    "duration": 323,
    "start_time": "2024-08-03T07:10:46.081Z"
   },
   {
    "duration": 1347,
    "start_time": "2024-08-03T07:11:00.913Z"
   },
   {
    "duration": 799,
    "start_time": "2024-08-03T07:11:02.264Z"
   },
   {
    "duration": 26,
    "start_time": "2024-08-03T07:11:03.065Z"
   },
   {
    "duration": 264,
    "start_time": "2024-08-03T07:11:03.103Z"
   },
   {
    "duration": 41,
    "start_time": "2024-08-03T07:11:03.370Z"
   },
   {
    "duration": 101,
    "start_time": "2024-08-03T07:11:03.414Z"
   },
   {
    "duration": 145,
    "start_time": "2024-08-03T07:11:03.518Z"
   },
   {
    "duration": 99,
    "start_time": "2024-08-03T07:11:03.666Z"
   },
   {
    "duration": 745,
    "start_time": "2024-08-03T07:11:03.768Z"
   },
   {
    "duration": 169,
    "start_time": "2024-08-03T07:11:04.517Z"
   },
   {
    "duration": 29,
    "start_time": "2024-08-03T07:11:04.689Z"
   },
   {
    "duration": 1373,
    "start_time": "2024-08-03T07:11:51.622Z"
   },
   {
    "duration": 775,
    "start_time": "2024-08-03T07:11:52.999Z"
   },
   {
    "duration": 34,
    "start_time": "2024-08-03T07:11:53.777Z"
   },
   {
    "duration": 289,
    "start_time": "2024-08-03T07:11:53.815Z"
   },
   {
    "duration": 31,
    "start_time": "2024-08-03T07:11:54.107Z"
   },
   {
    "duration": 110,
    "start_time": "2024-08-03T07:11:54.142Z"
   },
   {
    "duration": 144,
    "start_time": "2024-08-03T07:11:54.258Z"
   },
   {
    "duration": 96,
    "start_time": "2024-08-03T07:11:54.405Z"
   },
   {
    "duration": 755,
    "start_time": "2024-08-03T07:11:54.504Z"
   },
   {
    "duration": 187,
    "start_time": "2024-08-03T07:11:55.264Z"
   },
   {
    "duration": 22,
    "start_time": "2024-08-03T07:11:55.454Z"
   },
   {
    "duration": 1291,
    "start_time": "2024-08-03T07:20:43.539Z"
   },
   {
    "duration": 797,
    "start_time": "2024-08-03T07:20:44.834Z"
   },
   {
    "duration": 26,
    "start_time": "2024-08-03T07:20:45.633Z"
   },
   {
    "duration": 290,
    "start_time": "2024-08-03T07:20:45.665Z"
   },
   {
    "duration": 44,
    "start_time": "2024-08-03T07:20:45.958Z"
   },
   {
    "duration": 107,
    "start_time": "2024-08-03T07:20:46.007Z"
   },
   {
    "duration": 149,
    "start_time": "2024-08-03T07:20:46.117Z"
   },
   {
    "duration": 95,
    "start_time": "2024-08-03T07:20:46.269Z"
   },
   {
    "duration": 739,
    "start_time": "2024-08-03T07:20:46.367Z"
   },
   {
    "duration": 168,
    "start_time": "2024-08-03T07:20:47.111Z"
   },
   {
    "duration": 34,
    "start_time": "2024-08-03T07:20:47.281Z"
   },
   {
    "duration": 1318,
    "start_time": "2024-08-03T07:23:16.238Z"
   },
   {
    "duration": 800,
    "start_time": "2024-08-03T07:23:19.245Z"
   },
   {
    "duration": 25,
    "start_time": "2024-08-03T07:23:21.650Z"
   },
   {
    "duration": 257,
    "start_time": "2024-08-03T07:23:24.519Z"
   },
   {
    "duration": 30,
    "start_time": "2024-08-03T07:23:30.374Z"
   },
   {
    "duration": 92,
    "start_time": "2024-08-03T07:23:33.364Z"
   },
   {
    "duration": 698,
    "start_time": "2024-08-03T07:23:38.379Z"
   },
   {
    "duration": 164,
    "start_time": "2024-08-03T07:23:40.938Z"
   },
   {
    "duration": 21,
    "start_time": "2024-08-03T07:23:42.974Z"
   },
   {
    "duration": 309,
    "start_time": "2024-08-03T07:24:22.777Z"
   },
   {
    "duration": 1369,
    "start_time": "2024-08-03T07:24:36.391Z"
   },
   {
    "duration": 799,
    "start_time": "2024-08-03T07:24:39.203Z"
   },
   {
    "duration": 28,
    "start_time": "2024-08-03T07:24:41.865Z"
   },
   {
    "duration": 261,
    "start_time": "2024-08-03T07:24:44.848Z"
   },
   {
    "duration": 30,
    "start_time": "2024-08-03T07:24:51.540Z"
   },
   {
    "duration": 93,
    "start_time": "2024-08-03T07:24:53.863Z"
   },
   {
    "duration": 128,
    "start_time": "2024-08-03T07:25:00.057Z"
   },
   {
    "duration": 89,
    "start_time": "2024-08-03T07:25:06.129Z"
   },
   {
    "duration": 698,
    "start_time": "2024-08-03T07:25:09.420Z"
   },
   {
    "duration": 168,
    "start_time": "2024-08-03T07:25:11.870Z"
   },
   {
    "duration": 21,
    "start_time": "2024-08-03T07:25:14.087Z"
   },
   {
    "duration": 25,
    "start_time": "2024-08-03T07:25:19.199Z"
   },
   {
    "duration": 1216,
    "start_time": "2024-08-04T02:46:09.684Z"
   },
   {
    "duration": 767,
    "start_time": "2024-08-04T02:46:10.904Z"
   },
   {
    "duration": 24,
    "start_time": "2024-08-04T02:46:11.674Z"
   },
   {
    "duration": 290,
    "start_time": "2024-08-04T02:46:11.701Z"
   },
   {
    "duration": 41,
    "start_time": "2024-08-04T02:46:11.998Z"
   },
   {
    "duration": 113,
    "start_time": "2024-08-04T02:46:12.043Z"
   },
   {
    "duration": 147,
    "start_time": "2024-08-04T02:46:12.159Z"
   },
   {
    "duration": 89,
    "start_time": "2024-08-04T02:46:12.309Z"
   },
   {
    "duration": 696,
    "start_time": "2024-08-04T02:46:12.401Z"
   },
   {
    "duration": 164,
    "start_time": "2024-08-04T02:46:13.099Z"
   },
   {
    "duration": 22,
    "start_time": "2024-08-04T02:46:13.266Z"
   },
   {
    "duration": 49,
    "start_time": "2024-08-04T02:46:13.290Z"
   },
   {
    "duration": 5342,
    "start_time": "2024-08-04T02:47:38.701Z"
   },
   {
    "duration": 1318,
    "start_time": "2024-08-04T02:47:59.319Z"
   },
   {
    "duration": 755,
    "start_time": "2024-08-04T02:48:00.640Z"
   },
   {
    "duration": 35,
    "start_time": "2024-08-04T02:48:01.397Z"
   },
   {
    "duration": 249,
    "start_time": "2024-08-04T02:48:01.435Z"
   },
   {
    "duration": 41,
    "start_time": "2024-08-04T02:48:01.689Z"
   },
   {
    "duration": 107,
    "start_time": "2024-08-04T02:48:01.734Z"
   },
   {
    "duration": 141,
    "start_time": "2024-08-04T02:48:01.845Z"
   },
   {
    "duration": 107,
    "start_time": "2024-08-04T02:48:01.989Z"
   },
   {
    "duration": 695,
    "start_time": "2024-08-04T02:48:02.099Z"
   },
   {
    "duration": 170,
    "start_time": "2024-08-04T02:48:02.800Z"
   },
   {
    "duration": 21,
    "start_time": "2024-08-04T02:48:02.972Z"
   },
   {
    "duration": 50,
    "start_time": "2024-08-04T02:48:02.996Z"
   },
   {
    "duration": 1304,
    "start_time": "2024-08-04T02:48:59.338Z"
   },
   {
    "duration": 757,
    "start_time": "2024-08-04T02:49:00.646Z"
   },
   {
    "duration": 33,
    "start_time": "2024-08-04T02:49:01.406Z"
   },
   {
    "duration": 255,
    "start_time": "2024-08-04T02:49:01.442Z"
   },
   {
    "duration": 40,
    "start_time": "2024-08-04T02:49:01.701Z"
   },
   {
    "duration": 108,
    "start_time": "2024-08-04T02:49:01.744Z"
   },
   {
    "duration": 142,
    "start_time": "2024-08-04T02:49:01.855Z"
   },
   {
    "duration": 102,
    "start_time": "2024-08-04T02:49:02.000Z"
   },
   {
    "duration": 688,
    "start_time": "2024-08-04T02:49:02.105Z"
   },
   {
    "duration": 171,
    "start_time": "2024-08-04T02:49:02.796Z"
   },
   {
    "duration": 20,
    "start_time": "2024-08-04T02:49:02.970Z"
   },
   {
    "duration": 45,
    "start_time": "2024-08-04T02:49:02.994Z"
   },
   {
    "duration": 1251,
    "start_time": "2024-08-04T02:50:02.871Z"
   },
   {
    "duration": 767,
    "start_time": "2024-08-04T02:50:04.125Z"
   },
   {
    "duration": 36,
    "start_time": "2024-08-04T02:50:04.894Z"
   },
   {
    "duration": 260,
    "start_time": "2024-08-04T02:50:04.933Z"
   },
   {
    "duration": 36,
    "start_time": "2024-08-04T02:50:05.198Z"
   },
   {
    "duration": 109,
    "start_time": "2024-08-04T02:50:05.237Z"
   },
   {
    "duration": 140,
    "start_time": "2024-08-04T02:50:05.349Z"
   },
   {
    "duration": 100,
    "start_time": "2024-08-04T02:50:05.492Z"
   },
   {
    "duration": 684,
    "start_time": "2024-08-04T02:50:05.595Z"
   },
   {
    "duration": 170,
    "start_time": "2024-08-04T02:50:06.282Z"
   },
   {
    "duration": 21,
    "start_time": "2024-08-04T02:50:06.455Z"
   },
   {
    "duration": 25,
    "start_time": "2024-08-04T02:50:06.479Z"
   },
   {
    "duration": 312,
    "start_time": "2024-08-04T02:52:17.384Z"
   },
   {
    "duration": 1250,
    "start_time": "2024-08-04T02:53:04.412Z"
   },
   {
    "duration": 781,
    "start_time": "2024-08-04T02:53:05.667Z"
   },
   {
    "duration": 26,
    "start_time": "2024-08-04T02:53:06.450Z"
   },
   {
    "duration": 270,
    "start_time": "2024-08-04T02:53:06.478Z"
   },
   {
    "duration": 30,
    "start_time": "2024-08-04T02:53:06.753Z"
   },
   {
    "duration": 113,
    "start_time": "2024-08-04T02:53:06.785Z"
   },
   {
    "duration": 150,
    "start_time": "2024-08-04T02:53:06.901Z"
   },
   {
    "duration": 104,
    "start_time": "2024-08-04T02:53:07.054Z"
   },
   {
    "duration": 681,
    "start_time": "2024-08-04T02:53:07.161Z"
   },
   {
    "duration": 167,
    "start_time": "2024-08-04T02:53:07.845Z"
   },
   {
    "duration": 27,
    "start_time": "2024-08-04T02:53:08.014Z"
   },
   {
    "duration": 27,
    "start_time": "2024-08-04T02:53:08.044Z"
   },
   {
    "duration": 1294,
    "start_time": "2024-08-04T02:53:37.038Z"
   },
   {
    "duration": 784,
    "start_time": "2024-08-04T02:53:38.337Z"
   },
   {
    "duration": 26,
    "start_time": "2024-08-04T02:53:39.124Z"
   },
   {
    "duration": 290,
    "start_time": "2024-08-04T02:53:39.153Z"
   },
   {
    "duration": 28,
    "start_time": "2024-08-04T02:53:39.448Z"
   },
   {
    "duration": 113,
    "start_time": "2024-08-04T02:53:39.480Z"
   },
   {
    "duration": 146,
    "start_time": "2024-08-04T02:53:39.596Z"
   },
   {
    "duration": 89,
    "start_time": "2024-08-04T02:53:39.744Z"
   },
   {
    "duration": 694,
    "start_time": "2024-08-04T02:53:39.836Z"
   },
   {
    "duration": 172,
    "start_time": "2024-08-04T02:53:40.533Z"
   },
   {
    "duration": 33,
    "start_time": "2024-08-04T02:53:40.708Z"
   },
   {
    "duration": 24,
    "start_time": "2024-08-04T02:53:40.744Z"
   },
   {
    "duration": 1246,
    "start_time": "2024-08-04T02:54:30.364Z"
   },
   {
    "duration": 813,
    "start_time": "2024-08-04T02:54:31.613Z"
   },
   {
    "duration": 29,
    "start_time": "2024-08-04T02:54:32.428Z"
   },
   {
    "duration": 278,
    "start_time": "2024-08-04T02:54:32.461Z"
   },
   {
    "duration": 29,
    "start_time": "2024-08-04T02:54:32.744Z"
   },
   {
    "duration": 113,
    "start_time": "2024-08-04T02:54:32.775Z"
   },
   {
    "duration": 148,
    "start_time": "2024-08-04T02:54:32.891Z"
   },
   {
    "duration": 92,
    "start_time": "2024-08-04T02:54:33.046Z"
   },
   {
    "duration": 666,
    "start_time": "2024-08-04T02:54:33.141Z"
   },
   {
    "duration": 166,
    "start_time": "2024-08-04T02:54:33.809Z"
   },
   {
    "duration": 20,
    "start_time": "2024-08-04T02:54:33.978Z"
   },
   {
    "duration": 42,
    "start_time": "2024-08-04T02:54:34.001Z"
   },
   {
    "duration": 1270,
    "start_time": "2024-08-04T02:57:34.668Z"
   },
   {
    "duration": 758,
    "start_time": "2024-08-04T02:57:35.941Z"
   },
   {
    "duration": 31,
    "start_time": "2024-08-04T02:57:36.702Z"
   },
   {
    "duration": 276,
    "start_time": "2024-08-04T02:57:36.739Z"
   },
   {
    "duration": 36,
    "start_time": "2024-08-04T02:57:37.019Z"
   },
   {
    "duration": 106,
    "start_time": "2024-08-04T02:57:37.058Z"
   },
   {
    "duration": 143,
    "start_time": "2024-08-04T02:57:37.167Z"
   },
   {
    "duration": 91,
    "start_time": "2024-08-04T02:57:37.313Z"
   },
   {
    "duration": 680,
    "start_time": "2024-08-04T02:57:37.407Z"
   },
   {
    "duration": 176,
    "start_time": "2024-08-04T02:57:38.090Z"
   },
   {
    "duration": 21,
    "start_time": "2024-08-04T02:57:38.268Z"
   },
   {
    "duration": 9,
    "start_time": "2024-08-04T02:57:38.292Z"
   },
   {
    "duration": 48,
    "start_time": "2024-08-04T02:57:38.303Z"
   },
   {
    "duration": 1267,
    "start_time": "2024-08-04T02:58:05.954Z"
   },
   {
    "duration": 759,
    "start_time": "2024-08-04T02:58:07.224Z"
   },
   {
    "duration": 421,
    "start_time": "2024-08-04T02:58:07.986Z"
   },
   {
    "duration": 0,
    "start_time": "2024-08-04T02:58:08.411Z"
   },
   {
    "duration": 0,
    "start_time": "2024-08-04T02:58:08.414Z"
   },
   {
    "duration": 0,
    "start_time": "2024-08-04T02:58:08.416Z"
   },
   {
    "duration": 0,
    "start_time": "2024-08-04T02:58:08.430Z"
   },
   {
    "duration": 0,
    "start_time": "2024-08-04T02:58:08.433Z"
   },
   {
    "duration": 0,
    "start_time": "2024-08-04T02:58:08.435Z"
   },
   {
    "duration": 0,
    "start_time": "2024-08-04T02:58:08.437Z"
   },
   {
    "duration": 0,
    "start_time": "2024-08-04T02:58:08.438Z"
   },
   {
    "duration": 0,
    "start_time": "2024-08-04T02:58:08.440Z"
   },
   {
    "duration": 0,
    "start_time": "2024-08-04T02:58:08.442Z"
   },
   {
    "duration": 0,
    "start_time": "2024-08-04T02:58:08.444Z"
   },
   {
    "duration": 0,
    "start_time": "2024-08-04T02:58:08.446Z"
   },
   {
    "duration": 0,
    "start_time": "2024-08-04T02:58:08.447Z"
   },
   {
    "duration": 1206,
    "start_time": "2024-08-04T02:58:39.564Z"
   },
   {
    "duration": 730,
    "start_time": "2024-08-04T02:58:40.773Z"
   },
   {
    "duration": 33,
    "start_time": "2024-08-04T02:58:41.506Z"
   },
   {
    "duration": 267,
    "start_time": "2024-08-04T02:58:41.542Z"
   },
   {
    "duration": 33,
    "start_time": "2024-08-04T02:58:41.814Z"
   },
   {
    "duration": 117,
    "start_time": "2024-08-04T02:58:41.850Z"
   },
   {
    "duration": 175,
    "start_time": "2024-08-04T02:58:41.970Z"
   },
   {
    "duration": 96,
    "start_time": "2024-08-04T02:58:42.149Z"
   },
   {
    "duration": 738,
    "start_time": "2024-08-04T02:58:42.248Z"
   },
   {
    "duration": 180,
    "start_time": "2024-08-04T02:58:42.989Z"
   },
   {
    "duration": 22,
    "start_time": "2024-08-04T02:58:43.171Z"
   },
   {
    "duration": 40,
    "start_time": "2024-08-04T02:58:43.196Z"
   },
   {
    "duration": 8,
    "start_time": "2024-08-04T02:58:43.239Z"
   },
   {
    "duration": 10,
    "start_time": "2024-08-04T02:58:43.252Z"
   },
   {
    "duration": 1245,
    "start_time": "2024-08-04T21:32:53.565Z"
   },
   {
    "duration": 795,
    "start_time": "2024-08-04T21:32:57.370Z"
   },
   {
    "duration": 25,
    "start_time": "2024-08-04T21:33:00.482Z"
   },
   {
    "duration": 252,
    "start_time": "2024-08-04T21:33:03.309Z"
   },
   {
    "duration": 29,
    "start_time": "2024-08-04T21:33:08.109Z"
   },
   {
    "duration": 93,
    "start_time": "2024-08-04T21:33:10.545Z"
   },
   {
    "duration": 124,
    "start_time": "2024-08-04T21:33:13.853Z"
   },
   {
    "duration": 87,
    "start_time": "2024-08-04T21:33:16.458Z"
   },
   {
    "duration": 676,
    "start_time": "2024-08-04T21:33:20.901Z"
   },
   {
    "duration": 155,
    "start_time": "2024-08-04T21:33:23.583Z"
   },
   {
    "duration": 20,
    "start_time": "2024-08-04T21:33:25.402Z"
   },
   {
    "duration": 6,
    "start_time": "2024-08-04T21:33:27.866Z"
   },
   {
    "duration": 25,
    "start_time": "2024-08-04T21:33:30.053Z"
   },
   {
    "duration": 306,
    "start_time": "2024-08-04T21:35:39.569Z"
   },
   {
    "duration": 23,
    "start_time": "2024-08-04T21:35:45.290Z"
   },
   {
    "duration": 21,
    "start_time": "2024-08-04T21:35:48.881Z"
   },
   {
    "duration": 23,
    "start_time": "2024-08-04T21:36:02.383Z"
   },
   {
    "duration": 21,
    "start_time": "2024-08-04T21:36:08.478Z"
   },
   {
    "duration": 1264,
    "start_time": "2024-08-04T21:36:10.666Z"
   },
   {
    "duration": 5,
    "start_time": "2024-08-04T21:36:13.527Z"
   },
   {
    "duration": 778,
    "start_time": "2024-08-04T21:36:15.393Z"
   },
   {
    "duration": 719,
    "start_time": "2024-08-04T21:36:19.272Z"
   },
   {
    "duration": 12,
    "start_time": "2024-08-04T21:36:23.003Z"
   },
   {
    "duration": 152,
    "start_time": "2024-08-04T21:36:25.006Z"
   },
   {
    "duration": 1190,
    "start_time": "2024-08-04T21:36:29.151Z"
   },
   {
    "duration": 32,
    "start_time": "2024-08-04T21:36:57.183Z"
   },
   {
    "duration": 155,
    "start_time": "2024-08-04T21:37:11.907Z"
   },
   {
    "duration": 1235,
    "start_time": "2024-08-04T21:37:35.696Z"
   },
   {
    "duration": 744,
    "start_time": "2024-08-04T21:37:36.935Z"
   },
   {
    "duration": 25,
    "start_time": "2024-08-04T21:37:37.681Z"
   },
   {
    "duration": 276,
    "start_time": "2024-08-04T21:37:37.709Z"
   },
   {
    "duration": 42,
    "start_time": "2024-08-04T21:37:37.990Z"
   },
   {
    "duration": 104,
    "start_time": "2024-08-04T21:37:38.035Z"
   },
   {
    "duration": 139,
    "start_time": "2024-08-04T21:37:38.142Z"
   },
   {
    "duration": 94,
    "start_time": "2024-08-04T21:37:38.284Z"
   },
   {
    "duration": 674,
    "start_time": "2024-08-04T21:37:38.381Z"
   },
   {
    "duration": 169,
    "start_time": "2024-08-04T21:37:39.057Z"
   },
   {
    "duration": 21,
    "start_time": "2024-08-04T21:37:39.229Z"
   },
   {
    "duration": 7,
    "start_time": "2024-08-04T21:37:39.253Z"
   },
   {
    "duration": 26,
    "start_time": "2024-08-04T21:37:39.263Z"
   },
   {
    "duration": 1306,
    "start_time": "2024-08-04T21:37:54.514Z"
   },
   {
    "duration": 762,
    "start_time": "2024-08-04T21:37:55.832Z"
   },
   {
    "duration": 35,
    "start_time": "2024-08-04T21:37:56.597Z"
   },
   {
    "duration": 280,
    "start_time": "2024-08-04T21:37:56.635Z"
   },
   {
    "duration": 33,
    "start_time": "2024-08-04T21:37:56.921Z"
   },
   {
    "duration": 103,
    "start_time": "2024-08-04T21:37:56.957Z"
   },
   {
    "duration": 154,
    "start_time": "2024-08-04T21:37:57.063Z"
   },
   {
    "duration": 92,
    "start_time": "2024-08-04T21:37:57.220Z"
   },
   {
    "duration": 694,
    "start_time": "2024-08-04T21:37:57.315Z"
   },
   {
    "duration": 172,
    "start_time": "2024-08-04T21:37:58.011Z"
   },
   {
    "duration": 22,
    "start_time": "2024-08-04T21:37:58.186Z"
   },
   {
    "duration": 29,
    "start_time": "2024-08-04T21:37:58.211Z"
   },
   {
    "duration": 25,
    "start_time": "2024-08-04T21:37:58.244Z"
   },
   {
    "duration": 1329,
    "start_time": "2024-08-04T21:38:11.222Z"
   },
   {
    "duration": 760,
    "start_time": "2024-08-04T21:38:12.554Z"
   },
   {
    "duration": 29,
    "start_time": "2024-08-04T21:38:13.317Z"
   },
   {
    "duration": 263,
    "start_time": "2024-08-04T21:38:13.350Z"
   },
   {
    "duration": 37,
    "start_time": "2024-08-04T21:38:13.617Z"
   },
   {
    "duration": 103,
    "start_time": "2024-08-04T21:38:13.657Z"
   },
   {
    "duration": 139,
    "start_time": "2024-08-04T21:38:13.763Z"
   },
   {
    "duration": 91,
    "start_time": "2024-08-04T21:38:13.905Z"
   },
   {
    "duration": 704,
    "start_time": "2024-08-04T21:38:13.999Z"
   },
   {
    "duration": 169,
    "start_time": "2024-08-04T21:38:14.708Z"
   },
   {
    "duration": 21,
    "start_time": "2024-08-04T21:38:14.880Z"
   },
   {
    "duration": 8,
    "start_time": "2024-08-04T21:38:14.904Z"
   },
   {
    "duration": 34,
    "start_time": "2024-08-04T21:38:14.934Z"
   },
   {
    "duration": 1306,
    "start_time": "2024-08-04T21:38:16.623Z"
   },
   {
    "duration": 1240,
    "start_time": "2024-08-04T21:38:26.562Z"
   },
   {
    "duration": 788,
    "start_time": "2024-08-04T21:38:31.379Z"
   },
   {
    "duration": 24,
    "start_time": "2024-08-04T21:38:36.348Z"
   },
   {
    "duration": 253,
    "start_time": "2024-08-04T21:38:44.650Z"
   },
   {
    "duration": 29,
    "start_time": "2024-08-04T21:38:49.602Z"
   },
   {
    "duration": 110,
    "start_time": "2024-08-04T21:38:52.211Z"
   },
   {
    "duration": 139,
    "start_time": "2024-08-04T21:38:54.999Z"
   },
   {
    "duration": 97,
    "start_time": "2024-08-04T21:38:57.260Z"
   },
   {
    "duration": 662,
    "start_time": "2024-08-04T21:39:09.535Z"
   },
   {
    "duration": 25,
    "start_time": "2024-08-04T21:39:15.122Z"
   },
   {
    "duration": 163,
    "start_time": "2024-08-04T21:39:24.692Z"
   },
   {
    "duration": 26,
    "start_time": "2024-08-04T21:39:27.831Z"
   },
   {
    "duration": 1284,
    "start_time": "2024-08-04T21:39:45.919Z"
   },
   {
    "duration": 728,
    "start_time": "2024-08-04T21:39:50.911Z"
   },
   {
    "duration": 24,
    "start_time": "2024-08-04T21:39:53.731Z"
   },
   {
    "duration": 254,
    "start_time": "2024-08-04T21:39:57.253Z"
   },
   {
    "duration": 29,
    "start_time": "2024-08-04T21:40:01.444Z"
   },
   {
    "duration": 94,
    "start_time": "2024-08-04T21:40:03.674Z"
   },
   {
    "duration": 133,
    "start_time": "2024-08-04T21:40:06.414Z"
   },
   {
    "duration": 86,
    "start_time": "2024-08-04T21:40:09.851Z"
   },
   {
    "duration": 662,
    "start_time": "2024-08-04T21:40:13.070Z"
   },
   {
    "duration": 22,
    "start_time": "2024-08-04T21:40:17.878Z"
   },
   {
    "duration": 9,
    "start_time": "2024-08-04T21:40:30.779Z"
   },
   {
    "duration": 25,
    "start_time": "2024-08-04T21:40:32.871Z"
   },
   {
    "duration": 1096,
    "start_time": "2024-08-04T21:40:35.356Z"
   },
   {
    "duration": 23,
    "start_time": "2024-08-04T21:49:23.907Z"
   },
   {
    "duration": 1297,
    "start_time": "2024-08-04T22:27:46.624Z"
   },
   {
    "duration": 801,
    "start_time": "2024-08-04T22:27:47.924Z"
   },
   {
    "duration": 25,
    "start_time": "2024-08-04T22:27:48.727Z"
   },
   {
    "duration": 272,
    "start_time": "2024-08-04T22:27:48.755Z"
   },
   {
    "duration": 29,
    "start_time": "2024-08-04T22:27:49.033Z"
   },
   {
    "duration": 107,
    "start_time": "2024-08-04T22:27:49.066Z"
   },
   {
    "duration": 136,
    "start_time": "2024-08-04T22:27:49.176Z"
   },
   {
    "duration": 99,
    "start_time": "2024-08-04T22:27:49.314Z"
   },
   {
    "duration": 676,
    "start_time": "2024-08-04T22:27:49.416Z"
   },
   {
    "duration": 22,
    "start_time": "2024-08-04T22:27:50.095Z"
   },
   {
    "duration": 7,
    "start_time": "2024-08-04T22:27:50.134Z"
   },
   {
    "duration": 27,
    "start_time": "2024-08-04T22:27:50.144Z"
   },
   {
    "duration": 1125,
    "start_time": "2024-08-04T22:27:50.174Z"
   },
   {
    "duration": 1067,
    "start_time": "2024-08-04T22:27:55.120Z"
   },
   {
    "duration": 25,
    "start_time": "2024-08-04T22:28:01.597Z"
   },
   {
    "duration": 281,
    "start_time": "2024-08-04T22:28:17.722Z"
   },
   {
    "duration": 10,
    "start_time": "2024-08-04T22:28:24.310Z"
   },
   {
    "duration": 414,
    "start_time": "2024-08-04T22:28:38.369Z"
   },
   {
    "duration": 1330,
    "start_time": "2024-08-04T22:29:20.925Z"
   },
   {
    "duration": 716,
    "start_time": "2024-08-04T22:29:22.258Z"
   },
   {
    "duration": 26,
    "start_time": "2024-08-04T22:29:22.977Z"
   },
   {
    "duration": 260,
    "start_time": "2024-08-04T22:29:23.005Z"
   },
   {
    "duration": 28,
    "start_time": "2024-08-04T22:29:23.270Z"
   },
   {
    "duration": 134,
    "start_time": "2024-08-04T22:29:23.302Z"
   },
   {
    "duration": 138,
    "start_time": "2024-08-04T22:29:23.439Z"
   },
   {
    "duration": 94,
    "start_time": "2024-08-04T22:29:23.580Z"
   },
   {
    "duration": 671,
    "start_time": "2024-08-04T22:29:23.677Z"
   },
   {
    "duration": 22,
    "start_time": "2024-08-04T22:29:24.351Z"
   },
   {
    "duration": 56,
    "start_time": "2024-08-04T22:29:24.377Z"
   },
   {
    "duration": 1142,
    "start_time": "2024-08-04T22:29:24.436Z"
   },
   {
    "duration": 1094,
    "start_time": "2024-08-04T22:29:25.581Z"
   },
   {
    "duration": 290,
    "start_time": "2024-08-04T22:29:26.680Z"
   },
   {
    "duration": 1003,
    "start_time": "2024-08-04T22:29:26.972Z"
   },
   {
    "duration": 26,
    "start_time": "2024-08-04T22:29:32.118Z"
   },
   {
    "duration": 1283,
    "start_time": "2024-08-04T22:30:11.262Z"
   },
   {
    "duration": 782,
    "start_time": "2024-08-04T22:30:12.548Z"
   },
   {
    "duration": 25,
    "start_time": "2024-08-04T22:30:13.334Z"
   },
   {
    "duration": 271,
    "start_time": "2024-08-04T22:30:13.362Z"
   },
   {
    "duration": 29,
    "start_time": "2024-08-04T22:30:13.637Z"
   },
   {
    "duration": 110,
    "start_time": "2024-08-04T22:30:13.669Z"
   },
   {
    "duration": 139,
    "start_time": "2024-08-04T22:30:13.782Z"
   },
   {
    "duration": 93,
    "start_time": "2024-08-04T22:30:13.924Z"
   },
   {
    "duration": 694,
    "start_time": "2024-08-04T22:30:14.020Z"
   },
   {
    "duration": 29,
    "start_time": "2024-08-04T22:30:14.717Z"
   },
   {
    "duration": 26,
    "start_time": "2024-08-04T22:30:14.749Z"
   },
   {
    "duration": 1129,
    "start_time": "2024-08-04T22:30:14.778Z"
   },
   {
    "duration": 1076,
    "start_time": "2024-08-04T22:30:15.909Z"
   },
   {
    "duration": 293,
    "start_time": "2024-08-04T22:30:16.990Z"
   },
   {
    "duration": 1014,
    "start_time": "2024-08-04T22:30:17.286Z"
   },
   {
    "duration": 24,
    "start_time": "2024-08-04T22:30:22.508Z"
   },
   {
    "duration": 8,
    "start_time": "2024-08-04T22:30:37.656Z"
   },
   {
    "duration": 310,
    "start_time": "2024-08-04T22:31:12.636Z"
   },
   {
    "duration": 1323,
    "start_time": "2024-08-04T22:31:18.926Z"
   },
   {
    "duration": 763,
    "start_time": "2024-08-04T22:31:20.252Z"
   },
   {
    "duration": 29,
    "start_time": "2024-08-04T22:31:21.018Z"
   },
   {
    "duration": 259,
    "start_time": "2024-08-04T22:31:21.050Z"
   },
   {
    "duration": 38,
    "start_time": "2024-08-04T22:31:21.311Z"
   },
   {
    "duration": 107,
    "start_time": "2024-08-04T22:31:21.353Z"
   },
   {
    "duration": 153,
    "start_time": "2024-08-04T22:31:21.463Z"
   },
   {
    "duration": 102,
    "start_time": "2024-08-04T22:31:21.619Z"
   },
   {
    "duration": 671,
    "start_time": "2024-08-04T22:31:21.733Z"
   },
   {
    "duration": 37,
    "start_time": "2024-08-04T22:31:22.408Z"
   },
   {
    "duration": 25,
    "start_time": "2024-08-04T22:31:22.447Z"
   },
   {
    "duration": 1162,
    "start_time": "2024-08-04T22:31:22.475Z"
   },
   {
    "duration": 1079,
    "start_time": "2024-08-04T22:31:23.641Z"
   },
   {
    "duration": 293,
    "start_time": "2024-08-04T22:31:24.723Z"
   },
   {
    "duration": 992,
    "start_time": "2024-08-04T22:31:25.019Z"
   },
   {
    "duration": 9,
    "start_time": "2024-08-04T22:31:26.013Z"
   },
   {
    "duration": 1300,
    "start_time": "2024-08-04T22:31:49.434Z"
   },
   {
    "duration": 776,
    "start_time": "2024-08-04T22:31:50.737Z"
   },
   {
    "duration": 35,
    "start_time": "2024-08-04T22:31:51.515Z"
   },
   {
    "duration": 263,
    "start_time": "2024-08-04T22:31:51.553Z"
   },
   {
    "duration": 35,
    "start_time": "2024-08-04T22:31:51.821Z"
   },
   {
    "duration": 106,
    "start_time": "2024-08-04T22:31:51.858Z"
   },
   {
    "duration": 142,
    "start_time": "2024-08-04T22:31:51.966Z"
   },
   {
    "duration": 97,
    "start_time": "2024-08-04T22:31:52.110Z"
   },
   {
    "duration": 700,
    "start_time": "2024-08-04T22:31:52.210Z"
   },
   {
    "duration": 33,
    "start_time": "2024-08-04T22:31:52.913Z"
   },
   {
    "duration": 27,
    "start_time": "2024-08-04T22:31:52.950Z"
   },
   {
    "duration": 1141,
    "start_time": "2024-08-04T22:31:52.980Z"
   },
   {
    "duration": 1091,
    "start_time": "2024-08-04T22:31:54.124Z"
   },
   {
    "duration": 286,
    "start_time": "2024-08-04T22:31:55.221Z"
   },
   {
    "duration": 989,
    "start_time": "2024-08-04T22:31:55.510Z"
   },
   {
    "duration": 7,
    "start_time": "2024-08-04T22:31:56.502Z"
   },
   {
    "duration": 1255,
    "start_time": "2024-08-04T22:32:12.316Z"
   },
   {
    "duration": 782,
    "start_time": "2024-08-04T22:32:13.575Z"
   },
   {
    "duration": 24,
    "start_time": "2024-08-04T22:32:14.360Z"
   },
   {
    "duration": 271,
    "start_time": "2024-08-04T22:32:14.388Z"
   },
   {
    "duration": 30,
    "start_time": "2024-08-04T22:32:14.665Z"
   },
   {
    "duration": 107,
    "start_time": "2024-08-04T22:32:14.698Z"
   },
   {
    "duration": 155,
    "start_time": "2024-08-04T22:32:14.809Z"
   },
   {
    "duration": 98,
    "start_time": "2024-08-04T22:32:14.971Z"
   },
   {
    "duration": 669,
    "start_time": "2024-08-04T22:32:15.071Z"
   },
   {
    "duration": 22,
    "start_time": "2024-08-04T22:32:15.742Z"
   },
   {
    "duration": 26,
    "start_time": "2024-08-04T22:32:15.766Z"
   },
   {
    "duration": 1144,
    "start_time": "2024-08-04T22:32:15.795Z"
   },
   {
    "duration": 1106,
    "start_time": "2024-08-04T22:32:16.942Z"
   },
   {
    "duration": 284,
    "start_time": "2024-08-04T22:32:18.054Z"
   },
   {
    "duration": 993,
    "start_time": "2024-08-04T22:32:18.341Z"
   },
   {
    "duration": 8,
    "start_time": "2024-08-04T22:32:19.337Z"
   },
   {
    "duration": 314,
    "start_time": "2024-08-04T22:32:32.306Z"
   },
   {
    "duration": 1269,
    "start_time": "2024-08-04T22:32:37.950Z"
   },
   {
    "duration": 776,
    "start_time": "2024-08-04T22:32:39.223Z"
   },
   {
    "duration": 33,
    "start_time": "2024-08-04T22:32:40.002Z"
   },
   {
    "duration": 262,
    "start_time": "2024-08-04T22:32:40.038Z"
   },
   {
    "duration": 38,
    "start_time": "2024-08-04T22:32:40.305Z"
   },
   {
    "duration": 101,
    "start_time": "2024-08-04T22:32:40.346Z"
   },
   {
    "duration": 142,
    "start_time": "2024-08-04T22:32:40.450Z"
   },
   {
    "duration": 93,
    "start_time": "2024-08-04T22:32:40.595Z"
   },
   {
    "duration": 678,
    "start_time": "2024-08-04T22:32:40.691Z"
   },
   {
    "duration": 23,
    "start_time": "2024-08-04T22:32:41.372Z"
   },
   {
    "duration": 45,
    "start_time": "2024-08-04T22:32:41.398Z"
   },
   {
    "duration": 1141,
    "start_time": "2024-08-04T22:32:41.447Z"
   },
   {
    "duration": 1084,
    "start_time": "2024-08-04T22:32:42.590Z"
   },
   {
    "duration": 290,
    "start_time": "2024-08-04T22:32:43.679Z"
   },
   {
    "duration": 1006,
    "start_time": "2024-08-04T22:32:43.972Z"
   },
   {
    "duration": 10,
    "start_time": "2024-08-04T22:32:44.981Z"
   },
   {
    "duration": 4,
    "start_time": "2024-08-04T22:32:44.995Z"
   },
   {
    "duration": 26,
    "start_time": "2024-08-04T22:33:32.134Z"
   },
   {
    "duration": 412,
    "start_time": "2024-08-04T22:33:47.332Z"
   },
   {
    "duration": 1220,
    "start_time": "2024-08-04T22:33:58.577Z"
   },
   {
    "duration": 740,
    "start_time": "2024-08-04T22:33:59.800Z"
   },
   {
    "duration": 25,
    "start_time": "2024-08-04T22:34:00.544Z"
   },
   {
    "duration": 260,
    "start_time": "2024-08-04T22:34:00.572Z"
   },
   {
    "duration": 30,
    "start_time": "2024-08-04T22:34:00.837Z"
   },
   {
    "duration": 106,
    "start_time": "2024-08-04T22:34:00.870Z"
   },
   {
    "duration": 144,
    "start_time": "2024-08-04T22:34:00.978Z"
   },
   {
    "duration": 86,
    "start_time": "2024-08-04T22:34:01.132Z"
   },
   {
    "duration": 706,
    "start_time": "2024-08-04T22:34:01.221Z"
   },
   {
    "duration": 24,
    "start_time": "2024-08-04T22:34:01.932Z"
   },
   {
    "duration": 24,
    "start_time": "2024-08-04T22:34:01.962Z"
   },
   {
    "duration": 1157,
    "start_time": "2024-08-04T22:34:01.989Z"
   },
   {
    "duration": 1088,
    "start_time": "2024-08-04T22:34:03.148Z"
   },
   {
    "duration": 291,
    "start_time": "2024-08-04T22:34:04.241Z"
   },
   {
    "duration": 1009,
    "start_time": "2024-08-04T22:34:04.536Z"
   },
   {
    "duration": 9,
    "start_time": "2024-08-04T22:34:05.548Z"
   },
   {
    "duration": 4,
    "start_time": "2024-08-04T22:34:05.561Z"
   },
   {
    "duration": 1208,
    "start_time": "2024-08-04T22:35:45.676Z"
   },
   {
    "duration": 737,
    "start_time": "2024-08-04T22:35:46.887Z"
   },
   {
    "duration": 24,
    "start_time": "2024-08-04T22:35:47.627Z"
   },
   {
    "duration": 286,
    "start_time": "2024-08-04T22:35:47.654Z"
   },
   {
    "duration": 31,
    "start_time": "2024-08-04T22:35:47.945Z"
   },
   {
    "duration": 117,
    "start_time": "2024-08-04T22:35:47.981Z"
   },
   {
    "duration": 139,
    "start_time": "2024-08-04T22:35:48.101Z"
   },
   {
    "duration": 95,
    "start_time": "2024-08-04T22:35:48.242Z"
   },
   {
    "duration": 692,
    "start_time": "2024-08-04T22:35:48.340Z"
   },
   {
    "duration": 26,
    "start_time": "2024-08-04T22:35:49.035Z"
   },
   {
    "duration": 27,
    "start_time": "2024-08-04T22:35:49.064Z"
   },
   {
    "duration": 1142,
    "start_time": "2024-08-04T22:35:49.094Z"
   },
   {
    "duration": 297,
    "start_time": "2024-08-04T22:35:50.239Z"
   },
   {
    "duration": 1013,
    "start_time": "2024-08-04T22:35:50.540Z"
   },
   {
    "duration": 9,
    "start_time": "2024-08-04T22:35:51.555Z"
   },
   {
    "duration": 4,
    "start_time": "2024-08-04T22:35:51.567Z"
   },
   {
    "duration": 20751,
    "start_time": "2024-08-04T22:36:05.487Z"
   },
   {
    "duration": 20542,
    "start_time": "2024-08-04T22:36:36.491Z"
   },
   {
    "duration": 6656,
    "start_time": "2024-08-04T22:38:30.549Z"
   },
   {
    "duration": 460286,
    "start_time": "2024-08-04T22:38:49.986Z"
   },
   {
    "duration": 7725,
    "start_time": "2024-08-04T22:49:20.430Z"
   },
   {
    "duration": 6746,
    "start_time": "2024-08-04T22:50:18.514Z"
   },
   {
    "duration": 314,
    "start_time": "2024-08-05T00:34:47.542Z"
   },
   {
    "duration": 1306,
    "start_time": "2024-08-05T00:34:57.947Z"
   },
   {
    "duration": 781,
    "start_time": "2024-08-05T00:34:59.258Z"
   },
   {
    "duration": 24,
    "start_time": "2024-08-05T00:35:00.042Z"
   },
   {
    "duration": 272,
    "start_time": "2024-08-05T00:35:00.069Z"
   },
   {
    "duration": 29,
    "start_time": "2024-08-05T00:35:00.345Z"
   },
   {
    "duration": 113,
    "start_time": "2024-08-05T00:35:00.378Z"
   },
   {
    "duration": 143,
    "start_time": "2024-08-05T00:35:00.494Z"
   },
   {
    "duration": 95,
    "start_time": "2024-08-05T00:35:00.640Z"
   },
   {
    "duration": 729,
    "start_time": "2024-08-05T00:35:00.738Z"
   },
   {
    "duration": 22,
    "start_time": "2024-08-05T00:35:01.470Z"
   },
   {
    "duration": 1190,
    "start_time": "2024-08-05T00:35:01.495Z"
   },
   {
    "duration": 299,
    "start_time": "2024-08-05T00:35:02.688Z"
   },
   {
    "duration": 1017,
    "start_time": "2024-08-05T00:35:02.990Z"
   },
   {
    "duration": 8,
    "start_time": "2024-08-05T00:35:04.012Z"
   },
   {
    "duration": 21547,
    "start_time": "2024-08-05T00:35:04.034Z"
   },
   {
    "duration": 6887,
    "start_time": "2024-08-05T00:35:25.636Z"
   },
   {
    "duration": 84889,
    "start_time": "2024-08-05T00:35:32.526Z"
   },
   {
    "duration": 0,
    "start_time": "2024-08-05T00:36:57.418Z"
   },
   {
    "duration": 20831,
    "start_time": "2024-08-05T00:37:06.245Z"
   },
   {
    "duration": 1306,
    "start_time": "2024-08-05T00:38:16.253Z"
   },
   {
    "duration": 785,
    "start_time": "2024-08-05T00:38:17.563Z"
   },
   {
    "duration": 28,
    "start_time": "2024-08-05T00:38:18.351Z"
   },
   {
    "duration": 269,
    "start_time": "2024-08-05T00:38:18.382Z"
   },
   {
    "duration": 29,
    "start_time": "2024-08-05T00:38:18.655Z"
   },
   {
    "duration": 113,
    "start_time": "2024-08-05T00:38:18.687Z"
   },
   {
    "duration": 139,
    "start_time": "2024-08-05T00:38:18.804Z"
   },
   {
    "duration": 93,
    "start_time": "2024-08-05T00:38:18.945Z"
   },
   {
    "duration": 694,
    "start_time": "2024-08-05T00:38:19.041Z"
   },
   {
    "duration": 21,
    "start_time": "2024-08-05T00:38:19.737Z"
   },
   {
    "duration": 1154,
    "start_time": "2024-08-05T00:38:19.761Z"
   },
   {
    "duration": 299,
    "start_time": "2024-08-05T00:38:20.918Z"
   },
   {
    "duration": 1038,
    "start_time": "2024-08-05T00:38:21.220Z"
   },
   {
    "duration": 8,
    "start_time": "2024-08-05T00:38:22.263Z"
   },
   {
    "duration": 21164,
    "start_time": "2024-08-05T00:38:22.274Z"
   },
   {
    "duration": 6853,
    "start_time": "2024-08-05T00:38:43.441Z"
   },
   {
    "duration": 31404,
    "start_time": "2024-08-05T00:38:50.297Z"
   },
   {
    "duration": 0,
    "start_time": "2024-08-05T00:39:21.704Z"
   },
   {
    "duration": 6341,
    "start_time": "2024-08-05T00:40:11.079Z"
   },
   {
    "duration": 18690,
    "start_time": "2024-08-05T00:41:01.090Z"
   },
   {
    "duration": 1239,
    "start_time": "2024-08-05T00:41:45.978Z"
   },
   {
    "duration": 802,
    "start_time": "2024-08-05T00:41:47.220Z"
   },
   {
    "duration": 30,
    "start_time": "2024-08-05T00:41:48.025Z"
   },
   {
    "duration": 266,
    "start_time": "2024-08-05T00:41:48.059Z"
   },
   {
    "duration": 29,
    "start_time": "2024-08-05T00:41:48.328Z"
   },
   {
    "duration": 107,
    "start_time": "2024-08-05T00:41:48.361Z"
   },
   {
    "duration": 143,
    "start_time": "2024-08-05T00:41:48.471Z"
   },
   {
    "duration": 100,
    "start_time": "2024-08-05T00:41:48.616Z"
   },
   {
    "duration": 691,
    "start_time": "2024-08-05T00:41:48.719Z"
   },
   {
    "duration": 30,
    "start_time": "2024-08-05T00:41:49.414Z"
   },
   {
    "duration": 1125,
    "start_time": "2024-08-05T00:41:49.446Z"
   },
   {
    "duration": 281,
    "start_time": "2024-08-05T00:41:50.574Z"
   },
   {
    "duration": 1010,
    "start_time": "2024-08-05T00:41:50.858Z"
   },
   {
    "duration": 9,
    "start_time": "2024-08-05T00:41:51.871Z"
   },
   {
    "duration": 20750,
    "start_time": "2024-08-05T00:41:51.883Z"
   },
   {
    "duration": 8383,
    "start_time": "2024-08-05T00:42:12.637Z"
   },
   {
    "duration": 561456,
    "start_time": "2024-08-05T00:42:21.022Z"
   },
   {
    "duration": 9621,
    "start_time": "2024-08-05T00:51:42.481Z"
   },
   {
    "duration": 6,
    "start_time": "2024-08-05T00:53:27.128Z"
   },
   {
    "duration": 6526,
    "start_time": "2024-08-05T00:53:34.580Z"
   },
   {
    "duration": 315,
    "start_time": "2024-08-05T07:53:10.892Z"
   },
   {
    "duration": 1278,
    "start_time": "2024-08-05T07:53:23.724Z"
   },
   {
    "duration": 780,
    "start_time": "2024-08-05T07:53:25.005Z"
   },
   {
    "duration": 25,
    "start_time": "2024-08-05T07:53:25.787Z"
   },
   {
    "duration": 275,
    "start_time": "2024-08-05T07:53:25.816Z"
   },
   {
    "duration": 30,
    "start_time": "2024-08-05T07:53:26.094Z"
   },
   {
    "duration": 111,
    "start_time": "2024-08-05T07:53:26.128Z"
   },
   {
    "duration": 145,
    "start_time": "2024-08-05T07:53:26.242Z"
   },
   {
    "duration": 95,
    "start_time": "2024-08-05T07:53:26.390Z"
   },
   {
    "duration": 687,
    "start_time": "2024-08-05T07:53:26.488Z"
   },
   {
    "duration": 22,
    "start_time": "2024-08-05T07:53:27.182Z"
   },
   {
    "duration": 1175,
    "start_time": "2024-08-05T07:53:27.206Z"
   },
   {
    "duration": 300,
    "start_time": "2024-08-05T07:53:28.384Z"
   },
   {
    "duration": 989,
    "start_time": "2024-08-05T07:53:28.686Z"
   },
   {
    "duration": 9,
    "start_time": "2024-08-05T07:53:29.677Z"
   },
   {
    "duration": 21479,
    "start_time": "2024-08-05T07:53:29.689Z"
   },
   {
    "duration": 6752,
    "start_time": "2024-08-05T07:53:51.171Z"
   },
   {
    "duration": 451276,
    "start_time": "2024-08-05T07:53:57.925Z"
   },
   {
    "duration": 6626,
    "start_time": "2024-08-05T08:01:29.204Z"
   },
   {
    "duration": 6569,
    "start_time": "2024-08-05T08:02:01.769Z"
   },
   {
    "duration": 15392,
    "start_time": "2024-08-05T08:02:30.553Z"
   },
   {
    "duration": 14919,
    "start_time": "2024-08-05T08:03:02.112Z"
   },
   {
    "duration": 1336,
    "start_time": "2024-08-07T18:09:25.105Z"
   },
   {
    "duration": 797,
    "start_time": "2024-08-07T18:09:29.725Z"
   },
   {
    "duration": 29,
    "start_time": "2024-08-07T18:09:33.517Z"
   },
   {
    "duration": 243,
    "start_time": "2024-08-07T18:09:37.291Z"
   },
   {
    "duration": 29,
    "start_time": "2024-08-07T18:09:41.754Z"
   },
   {
    "duration": 91,
    "start_time": "2024-08-07T18:09:45.280Z"
   },
   {
    "duration": 126,
    "start_time": "2024-08-07T18:09:51.832Z"
   },
   {
    "duration": 96,
    "start_time": "2024-08-07T18:09:54.378Z"
   },
   {
    "duration": 83,
    "start_time": "2024-08-07T18:10:15.511Z"
   },
   {
    "duration": 79,
    "start_time": "2024-08-07T18:10:40.751Z"
   },
   {
    "duration": 78,
    "start_time": "2024-08-07T18:10:50.078Z"
   },
   {
    "duration": 162,
    "start_time": "2024-08-07T18:11:08.629Z"
   },
   {
    "duration": 272,
    "start_time": "2024-08-07T19:12:53.578Z"
   },
   {
    "duration": 561,
    "start_time": "2024-08-07T19:31:13.485Z"
   },
   {
    "duration": 248,
    "start_time": "2024-08-07T19:31:34.234Z"
   },
   {
    "duration": 83,
    "start_time": "2024-08-07T19:33:22.783Z"
   },
   {
    "duration": 249,
    "start_time": "2024-08-07T19:33:25.333Z"
   },
   {
    "duration": 85,
    "start_time": "2024-08-07T19:33:35.725Z"
   },
   {
    "duration": 250,
    "start_time": "2024-08-07T19:33:41.747Z"
   },
   {
    "duration": 82,
    "start_time": "2024-08-07T19:33:58.867Z"
   },
   {
    "duration": 253,
    "start_time": "2024-08-07T19:34:01.616Z"
   },
   {
    "duration": 82,
    "start_time": "2024-08-07T19:34:12.331Z"
   },
   {
    "duration": 264,
    "start_time": "2024-08-07T19:34:14.949Z"
   },
   {
    "duration": 84,
    "start_time": "2024-08-07T19:34:22.714Z"
   },
   {
    "duration": 256,
    "start_time": "2024-08-07T19:34:25.310Z"
   },
   {
    "duration": 4,
    "start_time": "2024-08-07T19:34:34.795Z"
   },
   {
    "duration": 732,
    "start_time": "2024-08-07T19:34:36.750Z"
   },
   {
    "duration": 19,
    "start_time": "2024-08-07T19:34:39.167Z"
   },
   {
    "duration": 252,
    "start_time": "2024-08-07T19:34:41.851Z"
   },
   {
    "duration": 23,
    "start_time": "2024-08-07T19:34:47.404Z"
   },
   {
    "duration": 94,
    "start_time": "2024-08-07T19:34:49.926Z"
   },
   {
    "duration": 134,
    "start_time": "2024-08-07T19:34:52.536Z"
   },
   {
    "duration": 86,
    "start_time": "2024-08-07T19:34:54.920Z"
   },
   {
    "duration": 163,
    "start_time": "2024-08-07T19:34:57.848Z"
   },
   {
    "duration": 679,
    "start_time": "2024-08-07T19:35:01.656Z"
   },
   {
    "duration": 269,
    "start_time": "2024-08-07T19:35:04.307Z"
   },
   {
    "duration": 82,
    "start_time": "2024-08-07T19:35:10.586Z"
   },
   {
    "duration": 267,
    "start_time": "2024-08-07T19:35:12.662Z"
   },
   {
    "duration": 1290,
    "start_time": "2024-08-07T19:36:01.851Z"
   },
   {
    "duration": 735,
    "start_time": "2024-08-07T19:36:06.009Z"
   },
   {
    "duration": 25,
    "start_time": "2024-08-07T19:36:08.166Z"
   },
   {
    "duration": 274,
    "start_time": "2024-08-07T19:36:11.665Z"
   },
   {
    "duration": 30,
    "start_time": "2024-08-07T19:36:15.241Z"
   },
   {
    "duration": 94,
    "start_time": "2024-08-07T19:36:17.623Z"
   },
   {
    "duration": 131,
    "start_time": "2024-08-07T19:36:20.706Z"
   },
   {
    "duration": 99,
    "start_time": "2024-08-07T19:36:23.616Z"
   },
   {
    "duration": 170,
    "start_time": "2024-08-07T19:36:27.333Z"
   },
   {
    "duration": 684,
    "start_time": "2024-08-07T19:36:31.213Z"
   },
   {
    "duration": 263,
    "start_time": "2024-08-07T19:36:33.936Z"
   },
   {
    "duration": 83,
    "start_time": "2024-08-07T19:36:37.267Z"
   },
   {
    "duration": 261,
    "start_time": "2024-08-07T19:36:39.330Z"
   },
   {
    "duration": 155,
    "start_time": "2024-08-07T19:40:52.216Z"
   },
   {
    "duration": 266,
    "start_time": "2024-08-07T19:40:54.324Z"
   },
   {
    "duration": 2012,
    "start_time": "2024-08-07T19:41:09.939Z"
   },
   {
    "duration": 81,
    "start_time": "2024-08-07T19:41:12.242Z"
   },
   {
    "duration": 253,
    "start_time": "2024-08-07T19:41:16.589Z"
   },
   {
    "duration": 486,
    "start_time": "2024-08-07T19:41:44.808Z"
   },
   {
    "duration": 249,
    "start_time": "2024-08-07T19:41:47.329Z"
   },
   {
    "duration": 81,
    "start_time": "2024-08-07T19:41:54.945Z"
   },
   {
    "duration": 251,
    "start_time": "2024-08-07T19:41:57.757Z"
   },
   {
    "duration": 79,
    "start_time": "2024-08-07T19:42:05.532Z"
   },
   {
    "duration": 255,
    "start_time": "2024-08-07T19:42:08.286Z"
   },
   {
    "duration": 80,
    "start_time": "2024-08-07T19:42:18.334Z"
   },
   {
    "duration": 250,
    "start_time": "2024-08-07T19:42:21.222Z"
   },
   {
    "duration": 79,
    "start_time": "2024-08-07T19:42:27.269Z"
   },
   {
    "duration": 256,
    "start_time": "2024-08-07T19:42:29.374Z"
   },
   {
    "duration": 81,
    "start_time": "2024-08-07T19:42:34.846Z"
   },
   {
    "duration": 249,
    "start_time": "2024-08-07T19:42:37.382Z"
   },
   {
    "duration": 150,
    "start_time": "2024-08-07T19:42:44.107Z"
   },
   {
    "duration": 247,
    "start_time": "2024-08-07T19:42:46.528Z"
   },
   {
    "duration": 136,
    "start_time": "2024-08-07T19:42:53.516Z"
   },
   {
    "duration": 247,
    "start_time": "2024-08-07T19:42:58.191Z"
   },
   {
    "duration": 81,
    "start_time": "2024-08-07T19:43:29.908Z"
   },
   {
    "duration": 247,
    "start_time": "2024-08-07T19:43:32.550Z"
   },
   {
    "duration": 79,
    "start_time": "2024-08-07T19:43:40.586Z"
   },
   {
    "duration": 249,
    "start_time": "2024-08-07T19:43:42.453Z"
   },
   {
    "duration": 216,
    "start_time": "2024-08-07T19:43:47.628Z"
   },
   {
    "duration": 254,
    "start_time": "2024-08-07T19:43:50.367Z"
   },
   {
    "duration": 1254,
    "start_time": "2024-08-07T19:44:06.824Z"
   },
   {
    "duration": 735,
    "start_time": "2024-08-07T19:44:09.789Z"
   },
   {
    "duration": 24,
    "start_time": "2024-08-07T19:44:14.238Z"
   },
   {
    "duration": 255,
    "start_time": "2024-08-07T19:44:16.552Z"
   },
   {
    "duration": 30,
    "start_time": "2024-08-07T19:44:20.326Z"
   },
   {
    "duration": 96,
    "start_time": "2024-08-07T19:44:22.903Z"
   },
   {
    "duration": 179,
    "start_time": "2024-08-07T19:44:25.666Z"
   },
   {
    "duration": 139,
    "start_time": "2024-08-07T19:44:27.729Z"
   },
   {
    "duration": 185,
    "start_time": "2024-08-07T19:44:31.165Z"
   },
   {
    "duration": 671,
    "start_time": "2024-08-07T19:44:34.451Z"
   },
   {
    "duration": 254,
    "start_time": "2024-08-07T19:44:36.580Z"
   },
   {
    "duration": 2152,
    "start_time": "2024-08-07T19:44:45.153Z"
   },
   {
    "duration": 255,
    "start_time": "2024-08-07T19:44:49.016Z"
   },
   {
    "duration": 292,
    "start_time": "2024-08-07T19:45:04.871Z"
   },
   {
    "duration": 265,
    "start_time": "2024-08-07T19:45:08.501Z"
   },
   {
    "duration": 153,
    "start_time": "2024-08-07T19:45:15.000Z"
   },
   {
    "duration": 276,
    "start_time": "2024-08-07T19:45:17.812Z"
   },
   {
    "duration": 161,
    "start_time": "2024-08-07T19:45:23.991Z"
   },
   {
    "duration": 253,
    "start_time": "2024-08-07T19:45:26.468Z"
   },
   {
    "duration": 151,
    "start_time": "2024-08-07T19:45:31.877Z"
   },
   {
    "duration": 253,
    "start_time": "2024-08-07T19:45:34.405Z"
   },
   {
    "duration": 239,
    "start_time": "2024-08-07T19:51:38.473Z"
   },
   {
    "duration": 23,
    "start_time": "2024-08-07T19:51:43.662Z"
   },
   {
    "duration": 21,
    "start_time": "2024-08-07T19:52:32.490Z"
   },
   {
    "duration": 189,
    "start_time": "2024-08-07T19:52:35.263Z"
   },
   {
    "duration": 292,
    "start_time": "2024-08-07T19:52:38.394Z"
   },
   {
    "duration": 1003,
    "start_time": "2024-08-07T19:52:48.425Z"
   },
   {
    "duration": 6,
    "start_time": "2024-08-07T19:52:53.167Z"
   },
   {
    "duration": 1930,
    "start_time": "2024-08-07T19:52:57.502Z"
   },
   {
    "duration": 400,
    "start_time": "2024-08-07T19:54:05.231Z"
   },
   {
    "duration": 1317,
    "start_time": "2024-08-07T19:55:46.429Z"
   },
   {
    "duration": 726,
    "start_time": "2024-08-07T19:55:49.853Z"
   },
   {
    "duration": 29,
    "start_time": "2024-08-07T19:55:51.870Z"
   },
   {
    "duration": 253,
    "start_time": "2024-08-07T19:55:54.620Z"
   },
   {
    "duration": 32,
    "start_time": "2024-08-07T19:55:58.119Z"
   },
   {
    "duration": 92,
    "start_time": "2024-08-07T19:56:01.046Z"
   },
   {
    "duration": 137,
    "start_time": "2024-08-07T19:56:03.695Z"
   },
   {
    "duration": 85,
    "start_time": "2024-08-07T19:56:06.123Z"
   },
   {
    "duration": 687,
    "start_time": "2024-08-07T19:56:08.795Z"
   },
   {
    "duration": 260,
    "start_time": "2024-08-07T19:56:11.472Z"
   },
   {
    "duration": 2570,
    "start_time": "2024-08-07T19:56:15.152Z"
   },
   {
    "duration": 278,
    "start_time": "2024-08-07T19:56:17.726Z"
   },
   {
    "duration": 247,
    "start_time": "2024-08-07T19:56:21.509Z"
   },
   {
    "duration": 78,
    "start_time": "2024-08-07T20:15:36.912Z"
   },
   {
    "duration": 416,
    "start_time": "2024-08-07T20:15:58.767Z"
   },
   {
    "duration": 4086,
    "start_time": "2024-08-07T20:16:12.012Z"
   },
   {
    "duration": 1198,
    "start_time": "2024-08-07T20:16:21.153Z"
   },
   {
    "duration": 197,
    "start_time": "2024-08-07T20:16:49.485Z"
   },
   {
    "duration": 1094,
    "start_time": "2024-08-07T20:17:51.467Z"
   },
   {
    "duration": 201,
    "start_time": "2024-08-07T20:26:25.580Z"
   },
   {
    "duration": 152,
    "start_time": "2024-08-07T20:37:03.314Z"
   },
   {
    "duration": 154,
    "start_time": "2024-08-07T20:41:24.439Z"
   },
   {
    "duration": 1270,
    "start_time": "2024-08-07T20:42:07.706Z"
   },
   {
    "duration": 751,
    "start_time": "2024-08-07T20:42:10.324Z"
   },
   {
    "duration": 25,
    "start_time": "2024-08-07T20:42:12.114Z"
   },
   {
    "duration": 247,
    "start_time": "2024-08-07T20:42:15.860Z"
   },
   {
    "duration": 33,
    "start_time": "2024-08-07T20:42:23.207Z"
   },
   {
    "duration": 97,
    "start_time": "2024-08-07T20:42:26.033Z"
   },
   {
    "duration": 126,
    "start_time": "2024-08-07T20:42:28.571Z"
   },
   {
    "duration": 86,
    "start_time": "2024-08-07T20:42:31.745Z"
   },
   {
    "duration": 159,
    "start_time": "2024-08-07T20:42:35.401Z"
   },
   {
    "duration": 1278,
    "start_time": "2024-08-07T20:43:20.159Z"
   },
   {
    "duration": 716,
    "start_time": "2024-08-07T20:43:24.820Z"
   },
   {
    "duration": 26,
    "start_time": "2024-08-07T20:43:30.499Z"
   },
   {
    "duration": 244,
    "start_time": "2024-08-07T20:43:34.437Z"
   },
   {
    "duration": 32,
    "start_time": "2024-08-07T20:43:38.302Z"
   },
   {
    "duration": 109,
    "start_time": "2024-08-07T20:43:40.232Z"
   },
   {
    "duration": 131,
    "start_time": "2024-08-07T20:43:43.574Z"
   },
   {
    "duration": 87,
    "start_time": "2024-08-07T20:43:45.561Z"
   },
   {
    "duration": 168,
    "start_time": "2024-08-07T20:43:48.406Z"
   },
   {
    "duration": 554,
    "start_time": "2024-08-07T20:43:59.582Z"
   },
   {
    "duration": 208,
    "start_time": "2024-08-07T20:44:02.772Z"
   },
   {
    "duration": 2148,
    "start_time": "2024-08-07T20:44:07.931Z"
   },
   {
    "duration": 209,
    "start_time": "2024-08-07T20:44:11.739Z"
   },
   {
    "duration": 197,
    "start_time": "2024-08-07T20:44:16.021Z"
   },
   {
    "duration": 23,
    "start_time": "2024-08-07T20:44:20.725Z"
   },
   {
    "duration": 148,
    "start_time": "2024-08-07T20:44:29.172Z"
   },
   {
    "duration": 236,
    "start_time": "2024-08-07T20:44:31.947Z"
   },
   {
    "duration": 1343,
    "start_time": "2024-08-07T23:16:15.798Z"
   },
   {
    "duration": 801,
    "start_time": "2024-08-07T23:16:18.100Z"
   },
   {
    "duration": 25,
    "start_time": "2024-08-07T23:16:20.410Z"
   },
   {
    "duration": 247,
    "start_time": "2024-08-07T23:16:23.133Z"
   },
   {
    "duration": 30,
    "start_time": "2024-08-07T23:16:27.170Z"
   },
   {
    "duration": 92,
    "start_time": "2024-08-07T23:16:29.982Z"
   },
   {
    "duration": 127,
    "start_time": "2024-08-07T23:16:32.725Z"
   },
   {
    "duration": 86,
    "start_time": "2024-08-07T23:16:34.960Z"
   },
   {
    "duration": 177,
    "start_time": "2024-08-07T23:16:38.720Z"
   },
   {
    "duration": 555,
    "start_time": "2024-08-07T23:16:42.244Z"
   },
   {
    "duration": 211,
    "start_time": "2024-08-07T23:16:45.455Z"
   },
   {
    "duration": 2568,
    "start_time": "2024-08-07T23:16:50.786Z"
   },
   {
    "duration": 216,
    "start_time": "2024-08-07T23:16:53.357Z"
   },
   {
    "duration": 203,
    "start_time": "2024-08-07T23:16:56.906Z"
   },
   {
    "duration": 22,
    "start_time": "2024-08-07T23:17:01.974Z"
   },
   {
    "duration": 187,
    "start_time": "2024-08-07T23:39:53.359Z"
   },
   {
    "duration": 254,
    "start_time": "2024-08-07T23:39:57.818Z"
   },
   {
    "duration": 200,
    "start_time": "2024-08-07T23:41:02.003Z"
   },
   {
    "duration": 240,
    "start_time": "2024-08-07T23:41:04.734Z"
   },
   {
    "duration": 869,
    "start_time": "2024-08-07T23:41:08.043Z"
   },
   {
    "duration": 7,
    "start_time": "2024-08-07T23:41:15.830Z"
   },
   {
    "duration": 1506,
    "start_time": "2024-08-07T23:49:22.774Z"
   },
   {
    "duration": 923,
    "start_time": "2024-08-07T23:50:16.206Z"
   },
   {
    "duration": 3781,
    "start_time": "2024-08-07T23:55:47.555Z"
   },
   {
    "duration": 254352,
    "start_time": "2024-08-07T23:56:54.298Z"
   },
   {
    "duration": 12692,
    "start_time": "2024-08-08T00:01:19.353Z"
   },
   {
    "duration": 12602,
    "start_time": "2024-08-08T00:04:17.470Z"
   },
   {
    "duration": 27,
    "start_time": "2024-08-08T00:09:55.327Z"
   },
   {
    "duration": 12673,
    "start_time": "2024-08-08T00:10:26.557Z"
   },
   {
    "duration": 1165,
    "start_time": "2024-08-08T00:10:44.280Z"
   },
   {
    "duration": 1304,
    "start_time": "2024-08-08T00:14:27.168Z"
   },
   {
    "duration": 737,
    "start_time": "2024-08-08T00:14:28.476Z"
   },
   {
    "duration": 24,
    "start_time": "2024-08-08T00:14:29.216Z"
   },
   {
    "duration": 271,
    "start_time": "2024-08-08T00:14:29.245Z"
   },
   {
    "duration": 31,
    "start_time": "2024-08-08T00:14:29.519Z"
   },
   {
    "duration": 116,
    "start_time": "2024-08-08T00:14:29.554Z"
   },
   {
    "duration": 145,
    "start_time": "2024-08-08T00:14:29.673Z"
   },
   {
    "duration": 93,
    "start_time": "2024-08-08T00:14:29.820Z"
   },
   {
    "duration": 184,
    "start_time": "2024-08-08T00:14:29.916Z"
   },
   {
    "duration": 572,
    "start_time": "2024-08-08T00:14:30.109Z"
   },
   {
    "duration": 222,
    "start_time": "2024-08-08T00:14:30.684Z"
   },
   {
    "duration": 2179,
    "start_time": "2024-08-08T00:14:30.909Z"
   },
   {
    "duration": 222,
    "start_time": "2024-08-08T00:14:33.091Z"
   },
   {
    "duration": 210,
    "start_time": "2024-08-08T00:14:33.317Z"
   },
   {
    "duration": 23,
    "start_time": "2024-08-08T00:14:33.530Z"
   },
   {
    "duration": 233,
    "start_time": "2024-08-08T00:14:33.556Z"
   },
   {
    "duration": 254,
    "start_time": "2024-08-08T00:14:33.792Z"
   },
   {
    "duration": 853,
    "start_time": "2024-08-08T00:14:34.049Z"
   },
   {
    "duration": 7,
    "start_time": "2024-08-08T00:14:34.908Z"
   },
   {
    "duration": 1001,
    "start_time": "2024-08-08T00:14:34.918Z"
   },
   {
    "duration": 4224,
    "start_time": "2024-08-08T00:14:35.922Z"
   },
   {
    "duration": 1313,
    "start_time": "2024-08-08T00:54:39.236Z"
   },
   {
    "duration": 785,
    "start_time": "2024-08-08T00:54:40.552Z"
   },
   {
    "duration": 25,
    "start_time": "2024-08-08T00:54:41.340Z"
   },
   {
    "duration": 268,
    "start_time": "2024-08-08T00:54:41.368Z"
   },
   {
    "duration": 30,
    "start_time": "2024-08-08T00:54:41.639Z"
   },
   {
    "duration": 118,
    "start_time": "2024-08-08T00:54:41.672Z"
   },
   {
    "duration": 137,
    "start_time": "2024-08-08T00:54:41.793Z"
   },
   {
    "duration": 96,
    "start_time": "2024-08-08T00:54:41.932Z"
   },
   {
    "duration": 181,
    "start_time": "2024-08-08T00:54:42.032Z"
   },
   {
    "duration": 545,
    "start_time": "2024-08-08T00:54:42.225Z"
   },
   {
    "duration": 228,
    "start_time": "2024-08-08T00:54:42.772Z"
   },
   {
    "duration": 2143,
    "start_time": "2024-08-08T00:54:43.002Z"
   },
   {
    "duration": 217,
    "start_time": "2024-08-08T00:54:45.148Z"
   },
   {
    "duration": 207,
    "start_time": "2024-08-08T00:54:45.368Z"
   },
   {
    "duration": 22,
    "start_time": "2024-08-08T00:54:45.578Z"
   },
   {
    "duration": 228,
    "start_time": "2024-08-08T00:54:45.603Z"
   },
   {
    "duration": 261,
    "start_time": "2024-08-08T00:54:45.834Z"
   },
   {
    "duration": 846,
    "start_time": "2024-08-08T00:54:46.098Z"
   },
   {
    "duration": 7,
    "start_time": "2024-08-08T00:54:46.947Z"
   },
   {
    "duration": 982,
    "start_time": "2024-08-08T00:54:46.957Z"
   },
   {
    "duration": 3893,
    "start_time": "2024-08-08T00:54:47.942Z"
   },
   {
    "duration": 1320,
    "start_time": "2024-08-08T00:55:46.921Z"
   },
   {
    "duration": 745,
    "start_time": "2024-08-08T00:55:48.244Z"
   },
   {
    "duration": 38,
    "start_time": "2024-08-08T00:55:48.992Z"
   },
   {
    "duration": 258,
    "start_time": "2024-08-08T00:55:49.035Z"
   },
   {
    "duration": 37,
    "start_time": "2024-08-08T00:55:49.296Z"
   },
   {
    "duration": 116,
    "start_time": "2024-08-08T00:55:49.337Z"
   },
   {
    "duration": 128,
    "start_time": "2024-08-08T00:55:49.459Z"
   },
   {
    "duration": 107,
    "start_time": "2024-08-08T00:55:49.590Z"
   },
   {
    "duration": 188,
    "start_time": "2024-08-08T00:55:49.701Z"
   },
   {
    "duration": 549,
    "start_time": "2024-08-08T00:55:49.894Z"
   },
   {
    "duration": 222,
    "start_time": "2024-08-08T00:55:50.445Z"
   },
   {
    "duration": 2130,
    "start_time": "2024-08-08T00:55:50.670Z"
   },
   {
    "duration": 221,
    "start_time": "2024-08-08T00:55:52.804Z"
   },
   {
    "duration": 209,
    "start_time": "2024-08-08T00:55:53.028Z"
   },
   {
    "duration": 21,
    "start_time": "2024-08-08T00:55:53.240Z"
   },
   {
    "duration": 226,
    "start_time": "2024-08-08T00:55:53.265Z"
   },
   {
    "duration": 249,
    "start_time": "2024-08-08T00:55:53.495Z"
   },
   {
    "duration": 860,
    "start_time": "2024-08-08T00:55:53.748Z"
   },
   {
    "duration": 7,
    "start_time": "2024-08-08T00:55:54.611Z"
   },
   {
    "duration": 1011,
    "start_time": "2024-08-08T00:55:54.620Z"
   },
   {
    "duration": 4077,
    "start_time": "2024-08-08T00:55:55.633Z"
   },
   {
    "duration": 244729,
    "start_time": "2024-08-08T00:55:59.713Z"
   },
   {
    "duration": 12552,
    "start_time": "2024-08-08T01:00:04.446Z"
   },
   {
    "duration": 1242,
    "start_time": "2024-08-08T01:00:17.001Z"
   },
   {
    "duration": 1305,
    "start_time": "2024-08-08T05:13:24.734Z"
   },
   {
    "duration": 784,
    "start_time": "2024-08-08T05:13:26.043Z"
   },
   {
    "duration": 25,
    "start_time": "2024-08-08T05:13:26.831Z"
   },
   {
    "duration": 269,
    "start_time": "2024-08-08T05:13:26.861Z"
   },
   {
    "duration": 30,
    "start_time": "2024-08-08T05:13:27.134Z"
   },
   {
    "duration": 109,
    "start_time": "2024-08-08T05:13:27.167Z"
   },
   {
    "duration": 139,
    "start_time": "2024-08-08T05:13:27.279Z"
   },
   {
    "duration": 96,
    "start_time": "2024-08-08T05:13:27.420Z"
   },
   {
    "duration": 186,
    "start_time": "2024-08-08T05:13:27.520Z"
   },
   {
    "duration": 544,
    "start_time": "2024-08-08T05:13:27.713Z"
   },
   {
    "duration": 220,
    "start_time": "2024-08-08T05:13:28.260Z"
   },
   {
    "duration": 2126,
    "start_time": "2024-08-08T05:13:28.483Z"
   },
   {
    "duration": 227,
    "start_time": "2024-08-08T05:13:30.612Z"
   },
   {
    "duration": 207,
    "start_time": "2024-08-08T05:13:30.842Z"
   },
   {
    "duration": 22,
    "start_time": "2024-08-08T05:13:31.051Z"
   },
   {
    "duration": 225,
    "start_time": "2024-08-08T05:13:31.079Z"
   },
   {
    "duration": 250,
    "start_time": "2024-08-08T05:13:31.307Z"
   },
   {
    "duration": 897,
    "start_time": "2024-08-08T05:13:31.560Z"
   },
   {
    "duration": 10,
    "start_time": "2024-08-08T05:13:32.460Z"
   },
   {
    "duration": 972,
    "start_time": "2024-08-08T05:13:32.473Z"
   },
   {
    "duration": 3985,
    "start_time": "2024-08-08T05:13:33.448Z"
   },
   {
    "duration": 258281,
    "start_time": "2024-08-08T05:13:37.436Z"
   },
   {
    "duration": 13065,
    "start_time": "2024-08-08T05:17:55.720Z"
   },
   {
    "duration": 1219,
    "start_time": "2024-08-08T05:18:08.788Z"
   }
  ],
  "kernelspec": {
   "display_name": "Python 3",
   "language": "python",
   "name": "python3"
  },
  "language_info": {
   "codemirror_mode": {
    "name": "ipython",
    "version": 3
   },
   "file_extension": ".py",
   "mimetype": "text/x-python",
   "name": "python",
   "nbconvert_exporter": "python",
   "pygments_lexer": "ipython3",
   "version": "3.11.9"
  },
  "toc": {
   "base_numbering": 1,
   "nav_menu": {},
   "number_sections": true,
   "sideBar": true,
   "skip_h1_title": true,
   "title_cell": "Table of Contents",
   "title_sidebar": "Contents",
   "toc_cell": false,
   "toc_position": {
    "height": "calc(100% - 180px)",
    "left": "10px",
    "top": "150px",
    "width": "272px"
   },
   "toc_section_display": true,
   "toc_window_display": true
  }
 },
 "nbformat": 4,
 "nbformat_minor": 2
}
